{
 "cells": [
  {
   "cell_type": "markdown",
   "metadata": {},
   "source": [
    "# Spam Comment Classification\n",
    "\n",
    "#### Here we have dataset of comments in youtube that has been classed as Spam (0) or Not Spam (1). Our task is to predict and classify which comment is spam or not spam"
   ]
  },
  {
   "cell_type": "code",
   "execution_count": 3,
   "metadata": {
    "jupyter": {
     "source_hidden": true
    }
   },
   "outputs": [],
   "source": [
    "import pandas as pd\n",
    "import numpy as np\n",
    "import pandas.api.types as ptypes\n",
    "import matplotlib.pyplot as plt\n",
    "import seaborn as sns\n",
    "import re\n",
    "\n",
    "from sklearn import metrics\n",
    "from sklearn.model_selection import train_test_split, GridSearchCV, KFold, cross_val_score, RandomizedSearchCV\n",
    "from sklearn.metrics import confusion_matrix,classification_report,accuracy_score\n",
    "from sklearn.feature_extraction.text import CountVectorizer, TfidfTransformer, TfidfVectorizer\n",
    "from sklearn.linear_model import LogisticRegression, SGDClassifier\n",
    "from sklearn.ensemble import RandomForestClassifier\n",
    "from sklearn.tree import DecisionTreeClassifier\n",
    "from sklearn.naive_bayes import GaussianNB, MultinomialNB\n",
    "from sklearn.neighbors import KNeighborsClassifier\n",
    "from sklearn import preprocessing\n",
    "from sklearn.feature_selection import chi2\n",
    "from sklearn.svm import LinearSVC\n",
    "\n",
    "from sklearn.pipeline import Pipeline"
   ]
  },
  {
   "cell_type": "markdown",
   "metadata": {},
   "source": [
    "#### Read our data"
   ]
  },
  {
   "cell_type": "code",
   "execution_count": 4,
   "metadata": {},
   "outputs": [],
   "source": [
    "df = pd.read_excel('comment_spam.xls', index_col=0, as_index=False)  \n",
    "df_tmp = df.copy()\n",
    "df_tmp.rename(columns = {'Comment' : 'comment', 'Class' : 'class'}, inplace = True)"
   ]
  },
  {
   "cell_type": "code",
   "execution_count": 5,
   "metadata": {},
   "outputs": [
    {
     "data": {
      "text/html": [
       "<div>\n",
       "<style scoped>\n",
       "    .dataframe tbody tr th:only-of-type {\n",
       "        vertical-align: middle;\n",
       "    }\n",
       "\n",
       "    .dataframe tbody tr th {\n",
       "        vertical-align: top;\n",
       "    }\n",
       "\n",
       "    .dataframe thead th {\n",
       "        text-align: right;\n",
       "    }\n",
       "</style>\n",
       "<table border=\"1\" class=\"dataframe\">\n",
       "  <thead>\n",
       "    <tr style=\"text-align: right;\">\n",
       "      <th></th>\n",
       "      <th>comment</th>\n",
       "      <th>class</th>\n",
       "    </tr>\n",
       "    <tr>\n",
       "      <th>No</th>\n",
       "      <th></th>\n",
       "      <th></th>\n",
       "    </tr>\n",
       "  </thead>\n",
       "  <tbody>\n",
       "    <tr>\n",
       "      <th>1</th>\n",
       "      <td>this song is racist</td>\n",
       "      <td>0</td>\n",
       "    </tr>\n",
       "    <tr>\n",
       "      <th>2</th>\n",
       "      <td>and how many subscribers compared to her over ...</td>\n",
       "      <td>1</td>\n",
       "    </tr>\n",
       "    <tr>\n",
       "      <th>3</th>\n",
       "      <td>HI! CHECK OUT OUR AWESOME COVERS! AND SAY WHAT...</td>\n",
       "      <td>1</td>\n",
       "    </tr>\n",
       "    <tr>\n",
       "      <th>4</th>\n",
       "      <td>well done shakira</td>\n",
       "      <td>0</td>\n",
       "    </tr>\n",
       "    <tr>\n",
       "      <th>5</th>\n",
       "      <td>:D subscribe to me for daily vines</td>\n",
       "      <td>1</td>\n",
       "    </tr>\n",
       "  </tbody>\n",
       "</table>\n",
       "</div>"
      ],
      "text/plain": [
       "                                              comment  class\n",
       "No                                                          \n",
       "1                                 this song is racist      0\n",
       "2   and how many subscribers compared to her over ...      1\n",
       "3   HI! CHECK OUT OUR AWESOME COVERS! AND SAY WHAT...      1\n",
       "4                                   well done shakira      0\n",
       "5                  :D subscribe to me for daily vines      1"
      ]
     },
     "execution_count": 5,
     "metadata": {},
     "output_type": "execute_result"
    }
   ],
   "source": [
    "df_tmp.head()"
   ]
  },
  {
   "cell_type": "code",
   "execution_count": 6,
   "metadata": {},
   "outputs": [
    {
     "data": {
      "text/plain": [
       "comment    0\n",
       "class      0\n",
       "dtype: int64"
      ]
     },
     "execution_count": 6,
     "metadata": {},
     "output_type": "execute_result"
    }
   ],
   "source": [
    "df_tmp.isnull().sum()"
   ]
  },
  {
   "cell_type": "markdown",
   "metadata": {},
   "source": [
    " "
   ]
  },
  {
   "cell_type": "markdown",
   "metadata": {},
   "source": [
    "#### Feature Engineering"
   ]
  },
  {
   "cell_type": "markdown",
   "metadata": {},
   "source": [
    "We will convert all of the comments to only contain alphabet"
   ]
  },
  {
   "cell_type": "code",
   "execution_count": 7,
   "metadata": {},
   "outputs": [],
   "source": [
    "def process_comment(comment):\n",
    "    return \" \".join(re.findall(\"[A-Za-z]+\",comment.lower()))"
   ]
  },
  {
   "cell_type": "code",
   "execution_count": 8,
   "metadata": {},
   "outputs": [],
   "source": [
    "df_tmp['proc_comment'] = df_tmp['comment'].apply(process_comment)\n",
    "df_tmp['proc_comment'] = df_tmp['proc_comment'].astype(str)"
   ]
  },
  {
   "cell_type": "code",
   "execution_count": 9,
   "metadata": {},
   "outputs": [],
   "source": [
    "df_tmp.drop('comment', axis=1, inplace=True)"
   ]
  },
  {
   "cell_type": "code",
   "execution_count": 10,
   "metadata": {},
   "outputs": [
    {
     "name": "stdout",
     "output_type": "stream",
     "text": [
      "<class 'pandas.core.frame.DataFrame'>\n",
      "Int64Index: 1300 entries, 1 to 1300\n",
      "Data columns (total 2 columns):\n",
      " #   Column        Non-Null Count  Dtype \n",
      "---  ------        --------------  ----- \n",
      " 0   class         1300 non-null   int64 \n",
      " 1   proc_comment  1300 non-null   object\n",
      "dtypes: int64(1), object(1)\n",
      "memory usage: 30.5+ KB\n"
     ]
    }
   ],
   "source": [
    "df_tmp.info()"
   ]
  },
  {
   "cell_type": "markdown",
   "metadata": {},
   "source": [
    " "
   ]
  },
  {
   "cell_type": "markdown",
   "metadata": {},
   "source": [
    "#### Splitting Train and Test"
   ]
  },
  {
   "cell_type": "code",
   "execution_count": 11,
   "metadata": {},
   "outputs": [],
   "source": [
    "X, y = df_tmp['proc_comment'], df_tmp['class']\n",
    "X_train, X_test, y_train, y_test = train_test_split(X, y, test_size=.2, random_state=42)"
   ]
  },
  {
   "cell_type": "markdown",
   "metadata": {},
   "source": [
    " "
   ]
  },
  {
   "cell_type": "markdown",
   "metadata": {},
   "source": [
    "#### Check for imbalance dataset"
   ]
  },
  {
   "cell_type": "code",
   "execution_count": 75,
   "metadata": {},
   "outputs": [
    {
     "data": {
      "image/png": "[encoded data removed]",
      "text/plain": [
       "<Figure size 432x288 with 1 Axes>"
      ]
     },
     "metadata": {
      "needs_background": "light"
     },
     "output_type": "display_data"
    }
   ],
   "source": [
    "df_tmp.groupby('class').proc_comment.count().plot.bar(ylim=0)\n",
    "plt.show()"
   ]
  },
  {
   "cell_type": "markdown",
   "metadata": {},
   "source": [
    "We have a balanced dataset"
   ]
  },
  {
   "cell_type": "markdown",
   "metadata": {},
   "source": [
    " "
   ]
  },
  {
   "cell_type": "markdown",
   "metadata": {},
   "source": [
    "#### Count Vectorizer and TF-IDF"
   ]
  },
  {
   "cell_type": "markdown",
   "metadata": {},
   "source": [
    "Using countvectorizer to creates a matrix in which each unique word is represented by a column of the matrix, and each text sample from the document is a row in the matrix. The value of each cell is nothing but the count of the word in that particular text sample."
   ]
  },
  {
   "cell_type": "markdown",
   "metadata": {},
   "source": [
    "The goal of using tf-idf instead of the raw frequencies of occurrence of a token in a given document is to scale down the impact of tokens that occur very frequently in a given corpus and that are hence empirically less informative than features that occur in a small fraction of the training corpus."
   ]
  },
  {
   "cell_type": "markdown",
   "metadata": {},
   "source": [
    " "
   ]
  },
  {
   "cell_type": "markdown",
   "metadata": {},
   "source": [
    "### Modelling"
   ]
  },
  {
   "cell_type": "markdown",
   "metadata": {},
   "source": [
    "#### Logistic Regression"
   ]
  },
  {
   "cell_type": "code",
   "execution_count": 79,
   "metadata": {},
   "outputs": [
    {
     "name": "stdout",
     "output_type": "stream",
     "text": [
      "Train Accuracy: 0.9721153846153846\n",
      "Test Accuracy: 0.95\n"
     ]
    }
   ],
   "source": [
    "pipeline_lr = Pipeline([('vect', CountVectorizer()),\n",
    "                     ('tfidf', TfidfTransformer()),\n",
    "                     ('lr', LogisticRegression()),\n",
    " ])\n",
    "pipeline_lr = pipeline_lr.fit(X_train, y_train)\n",
    "\n",
    "predicted_lr = pipeline_lr.predict(X_test)\n",
    "print(\"Train Accuracy:\",pipeline_lr.score(X_train, y_train))\n",
    "print(\"Test Accuracy:\",pipeline_lr.score(X_test, y_test))"
   ]
  },
  {
   "cell_type": "markdown",
   "metadata": {},
   "source": [
    "As you can see from above, the scores are very close which indicates that we avoided over-fitting."
   ]
  },
  {
   "cell_type": "code",
   "execution_count": 80,
   "metadata": {},
   "outputs": [
    {
     "data": {
      "text/plain": [
       "array([[122,   4],\n",
       "       [  9, 125]], dtype=int64)"
      ]
     },
     "execution_count": 80,
     "metadata": {},
     "output_type": "execute_result"
    }
   ],
   "source": [
    "confusion_matrix(y_test,predicted_lr)"
   ]
  },
  {
   "cell_type": "code",
   "execution_count": 81,
   "metadata": {},
   "outputs": [
    {
     "name": "stdout",
     "output_type": "stream",
     "text": [
      "              precision    recall  f1-score   support\n",
      "\n",
      "           0       0.93      0.97      0.95       126\n",
      "           1       0.97      0.93      0.95       134\n",
      "\n",
      "    accuracy                           0.95       260\n",
      "   macro avg       0.95      0.95      0.95       260\n",
      "weighted avg       0.95      0.95      0.95       260\n",
      "\n"
     ]
    }
   ],
   "source": [
    "print(classification_report(y_test,predicted_lr))"
   ]
  },
  {
   "cell_type": "markdown",
   "metadata": {},
   "source": [
    "#### The accuracy from Logistic Regression is 95%"
   ]
  },
  {
   "cell_type": "markdown",
   "metadata": {},
   "source": [
    " "
   ]
  },
  {
   "cell_type": "markdown",
   "metadata": {},
   "source": [
    "#### Random Forest Classifier"
   ]
  },
  {
   "cell_type": "code",
   "execution_count": 82,
   "metadata": {},
   "outputs": [
    {
     "name": "stdout",
     "output_type": "stream",
     "text": [
      "Train Accuracy: 0.9990384615384615\n",
      "Test Accuracy: 0.9653846153846154\n"
     ]
    }
   ],
   "source": [
    "pipeline_rfc = Pipeline([('vect', CountVectorizer()),\n",
    "                     ('tfidf', TfidfTransformer()),\n",
    "                     ('rfc', RandomForestClassifier()),\n",
    " ])\n",
    "pipeline_rfc = pipeline_rfc.fit(X_train, y_train)\n",
    "\n",
    "predicted_rfc = pipeline_rfc.predict(X_test)\n",
    "print(\"Train Accuracy:\",pipeline_rfc.score(X_train, y_train))\n",
    "print(\"Test Accuracy:\",pipeline_rfc.score(X_test, y_test))"
   ]
  },
  {
   "cell_type": "markdown",
   "metadata": {},
   "source": [
    "As you can see from above, the scores are very close which indicates that we avoided over-fitting."
   ]
  },
  {
   "cell_type": "code",
   "execution_count": 83,
   "metadata": {},
   "outputs": [
    {
     "data": {
      "text/plain": [
       "array([[124,   2],\n",
       "       [  7, 127]], dtype=int64)"
      ]
     },
     "execution_count": 83,
     "metadata": {},
     "output_type": "execute_result"
    }
   ],
   "source": [
    "confusion_matrix(y_test,predicted_rfc)"
   ]
  },
  {
   "cell_type": "code",
   "execution_count": 84,
   "metadata": {},
   "outputs": [
    {
     "name": "stdout",
     "output_type": "stream",
     "text": [
      "              precision    recall  f1-score   support\n",
      "\n",
      "           0       0.95      0.98      0.96       126\n",
      "           1       0.98      0.95      0.97       134\n",
      "\n",
      "    accuracy                           0.97       260\n",
      "   macro avg       0.97      0.97      0.97       260\n",
      "weighted avg       0.97      0.97      0.97       260\n",
      "\n"
     ]
    }
   ],
   "source": [
    "print(classification_report(y_test,predicted_rfc))"
   ]
  },
  {
   "cell_type": "markdown",
   "metadata": {},
   "source": [
    "#### The accuracy from Random Forest Classifier is 96.5%"
   ]
  },
  {
   "cell_type": "markdown",
   "metadata": {},
   "source": [
    " "
   ]
  },
  {
   "cell_type": "markdown",
   "metadata": {},
   "source": [
    "#### Decision Tree"
   ]
  },
  {
   "cell_type": "code",
   "execution_count": 85,
   "metadata": {},
   "outputs": [
    {
     "name": "stdout",
     "output_type": "stream",
     "text": [
      "Train Accuracy: 0.9990384615384615\n",
      "Test Accuracy: 0.95\n"
     ]
    }
   ],
   "source": [
    "pipeline_dtc = Pipeline([('vect', CountVectorizer()),\n",
    "                     ('tfidf', TfidfTransformer()),\n",
    "                     ('dtc', DecisionTreeClassifier()),\n",
    " ])\n",
    "pipeline_dtc = pipeline_dtc.fit(X_train, y_train)\n",
    "\n",
    "predicted_dtc = pipeline_dtc.predict(X_test)\n",
    "print(\"Train Accuracy:\",pipeline_dtc.score(X_train, y_train))\n",
    "print(\"Test Accuracy:\",pipeline_dtc.score(X_test, y_test))"
   ]
  },
  {
   "cell_type": "markdown",
   "metadata": {},
   "source": [
    "As you can see from above, the scores are very close which indicates that we avoided over-fitting."
   ]
  },
  {
   "cell_type": "code",
   "execution_count": 86,
   "metadata": {},
   "outputs": [
    {
     "data": {
      "text/plain": [
       "array([[122,   4],\n",
       "       [  9, 125]], dtype=int64)"
      ]
     },
     "execution_count": 86,
     "metadata": {},
     "output_type": "execute_result"
    }
   ],
   "source": [
    "confusion_matrix(y_test,predicted_dtc)"
   ]
  },
  {
   "cell_type": "code",
   "execution_count": 87,
   "metadata": {},
   "outputs": [
    {
     "name": "stdout",
     "output_type": "stream",
     "text": [
      "              precision    recall  f1-score   support\n",
      "\n",
      "           0       0.93      0.97      0.95       126\n",
      "           1       0.97      0.93      0.95       134\n",
      "\n",
      "    accuracy                           0.95       260\n",
      "   macro avg       0.95      0.95      0.95       260\n",
      "weighted avg       0.95      0.95      0.95       260\n",
      "\n"
     ]
    }
   ],
   "source": [
    "print(classification_report(y_test,predicted_dtc))"
   ]
  },
  {
   "cell_type": "markdown",
   "metadata": {},
   "source": [
    "#### The accuracy from Decision Tree is 95%"
   ]
  },
  {
   "cell_type": "markdown",
   "metadata": {},
   "source": [
    " "
   ]
  },
  {
   "cell_type": "markdown",
   "metadata": {},
   "source": [
    "#### Naive Bayes"
   ]
  },
  {
   "cell_type": "code",
   "execution_count": 88,
   "metadata": {},
   "outputs": [
    {
     "name": "stdout",
     "output_type": "stream",
     "text": [
      "Train Accuracy: 0.9682692307692308\n",
      "Test Accuracy: 0.9346153846153846\n"
     ]
    }
   ],
   "source": [
    "pipeline_nb = Pipeline([('vect', CountVectorizer()),\n",
    "                     ('tfidf', TfidfTransformer()),\n",
    "                     ('nb', MultinomialNB()),\n",
    " ])\n",
    "pipeline_nb = pipeline_nb.fit(X_train, y_train)\n",
    "\n",
    "predicted_nb = pipeline_nb.predict(X_test)\n",
    "print(\"Train Accuracy:\",pipeline_nb.score(X_train, y_train))\n",
    "print(\"Test Accuracy:\",pipeline_nb.score(X_test, y_test))"
   ]
  },
  {
   "cell_type": "markdown",
   "metadata": {},
   "source": [
    "As you can see from above, the scores are very close which indicates that we avoided over-fitting."
   ]
  },
  {
   "cell_type": "code",
   "execution_count": 89,
   "metadata": {},
   "outputs": [
    {
     "data": {
      "text/plain": [
       "array([[114,  12],\n",
       "       [  5, 129]], dtype=int64)"
      ]
     },
     "execution_count": 89,
     "metadata": {},
     "output_type": "execute_result"
    }
   ],
   "source": [
    "confusion_matrix(y_test,predicted_nb)"
   ]
  },
  {
   "cell_type": "code",
   "execution_count": 90,
   "metadata": {},
   "outputs": [
    {
     "name": "stdout",
     "output_type": "stream",
     "text": [
      "              precision    recall  f1-score   support\n",
      "\n",
      "           0       0.96      0.90      0.93       126\n",
      "           1       0.91      0.96      0.94       134\n",
      "\n",
      "    accuracy                           0.93       260\n",
      "   macro avg       0.94      0.93      0.93       260\n",
      "weighted avg       0.94      0.93      0.93       260\n",
      "\n"
     ]
    }
   ],
   "source": [
    "print(classification_report(y_test,predicted_nb))"
   ]
  },
  {
   "cell_type": "markdown",
   "metadata": {},
   "source": [
    "#### The accuracy from Naive Bayes is 93.46%"
   ]
  },
  {
   "cell_type": "markdown",
   "metadata": {},
   "source": [
    " "
   ]
  },
  {
   "cell_type": "markdown",
   "metadata": {},
   "source": [
    "#### K-Nearest Neighbors"
   ]
  },
  {
   "cell_type": "code",
   "execution_count": 91,
   "metadata": {},
   "outputs": [
    {
     "name": "stdout",
     "output_type": "stream",
     "text": [
      "Train Accuracy: 0.6884615384615385\n",
      "Test Accuracy: 0.6923076923076923\n"
     ]
    }
   ],
   "source": [
    "pipeline_knn = Pipeline([('vect', CountVectorizer()),\n",
    "                     ('tfidf', TfidfTransformer()),\n",
    "                     ('knn', KNeighborsClassifier()),\n",
    " ])\n",
    "pipeline_knn = pipeline_knn.fit(X_train, y_train)\n",
    "\n",
    "predicted_knn = pipeline_knn.predict(X_test)\n",
    "print(\"Train Accuracy:\",pipeline_knn.score(X_train, y_train))\n",
    "print(\"Test Accuracy:\",pipeline_knn.score(X_test, y_test))"
   ]
  },
  {
   "cell_type": "markdown",
   "metadata": {},
   "source": [
    "As you can see from above, the scores are very close which indicates that we avoided over-fitting."
   ]
  },
  {
   "cell_type": "code",
   "execution_count": 92,
   "metadata": {},
   "outputs": [
    {
     "data": {
      "text/plain": [
       "array([[126,   0],\n",
       "       [ 80,  54]], dtype=int64)"
      ]
     },
     "execution_count": 92,
     "metadata": {},
     "output_type": "execute_result"
    }
   ],
   "source": [
    "confusion_matrix(y_test,predicted_knn)"
   ]
  },
  {
   "cell_type": "code",
   "execution_count": 93,
   "metadata": {},
   "outputs": [
    {
     "name": "stdout",
     "output_type": "stream",
     "text": [
      "              precision    recall  f1-score   support\n",
      "\n",
      "           0       0.61      1.00      0.76       126\n",
      "           1       1.00      0.40      0.57       134\n",
      "\n",
      "    accuracy                           0.69       260\n",
      "   macro avg       0.81      0.70      0.67       260\n",
      "weighted avg       0.81      0.69      0.66       260\n",
      "\n"
     ]
    }
   ],
   "source": [
    "print(classification_report(y_test,predicted_knn))"
   ]
  },
  {
   "cell_type": "markdown",
   "metadata": {},
   "source": [
    "#### The accuracy from K-Nearest Neighbors is 69.2%"
   ]
  },
  {
   "cell_type": "markdown",
   "metadata": {},
   "source": [
    " "
   ]
  },
  {
   "cell_type": "markdown",
   "metadata": {},
   "source": [
    "#### Random Forest Classifier have the best Accuracy (96.5%), so we will be using that"
   ]
  },
  {
   "cell_type": "markdown",
   "metadata": {},
   "source": [
    " "
   ]
  },
  {
   "cell_type": "markdown",
   "metadata": {},
   "source": [
    "#### Hyperparameter tuning using GridSearchCV"
   ]
  },
  {
   "cell_type": "code",
   "execution_count": 103,
   "metadata": {},
   "outputs": [],
   "source": [
    "rfc_param_grid = {\n",
    "    \"vect__ngram_range\": [(1, 1),(1, 2)],\n",
    "    \"tfidf__use_idf\": (True, False),\n",
    "    \"rfc__max_depth\": (list(range(5,100,5)), None),\n",
    "    \"rfc__max_features\": ['auto', 'sqrt','log2', None],\n",
    "    \"rfc__min_samples_leaf\": (list(range(1,10,1))),\n",
    "    \"rfc__min_samples_split\": (list(range(1,10,1))),\n",
    "    \"rfc__n_estimators\": (list(range(50,300,10)))\n",
    "}"
   ]
  },
  {
   "cell_type": "code",
   "execution_count": 104,
   "metadata": {
    "collapsed": true,
    "jupyter": {
     "outputs_hidden": true
    }
   },
   "outputs": [
    {
     "name": "stdout",
     "output_type": "stream",
     "text": [
      "Fitting 5 folds for each of 10 candidates, totalling 50 fits\n",
      "[CV] vect__ngram_range=(1, 2), tfidf__use_idf=True, rfc__n_estimators=120, rfc__min_samples_split=9, rfc__min_samples_leaf=9, rfc__max_features=auto, rfc__max_depth=None \n"
     ]
    },
    {
     "name": "stderr",
     "output_type": "stream",
     "text": [
      "[Parallel(n_jobs=1)]: Using backend SequentialBackend with 1 concurrent workers.\n"
     ]
    },
    {
     "name": "stdout",
     "output_type": "stream",
     "text": [
      "[CV]  vect__ngram_range=(1, 2), tfidf__use_idf=True, rfc__n_estimators=120, rfc__min_samples_split=9, rfc__min_samples_leaf=9, rfc__max_features=auto, rfc__max_depth=None, score=0.856, total=   0.2s\n",
      "[CV] vect__ngram_range=(1, 2), tfidf__use_idf=True, rfc__n_estimators=120, rfc__min_samples_split=9, rfc__min_samples_leaf=9, rfc__max_features=auto, rfc__max_depth=None \n"
     ]
    },
    {
     "name": "stderr",
     "output_type": "stream",
     "text": [
      "[Parallel(n_jobs=1)]: Done   1 out of   1 | elapsed:    0.1s remaining:    0.0s\n"
     ]
    },
    {
     "name": "stdout",
     "output_type": "stream",
     "text": [
      "[CV]  vect__ngram_range=(1, 2), tfidf__use_idf=True, rfc__n_estimators=120, rfc__min_samples_split=9, rfc__min_samples_leaf=9, rfc__max_features=auto, rfc__max_depth=None, score=0.865, total=   0.2s\n",
      "[CV] vect__ngram_range=(1, 2), tfidf__use_idf=True, rfc__n_estimators=120, rfc__min_samples_split=9, rfc__min_samples_leaf=9, rfc__max_features=auto, rfc__max_depth=None \n"
     ]
    },
    {
     "name": "stderr",
     "output_type": "stream",
     "text": [
      "[Parallel(n_jobs=1)]: Done   2 out of   2 | elapsed:    0.4s remaining:    0.0s\n"
     ]
    },
    {
     "name": "stdout",
     "output_type": "stream",
     "text": [
      "[CV]  vect__ngram_range=(1, 2), tfidf__use_idf=True, rfc__n_estimators=120, rfc__min_samples_split=9, rfc__min_samples_leaf=9, rfc__max_features=auto, rfc__max_depth=None, score=0.928, total=   0.2s\n",
      "[CV] vect__ngram_range=(1, 2), tfidf__use_idf=True, rfc__n_estimators=120, rfc__min_samples_split=9, rfc__min_samples_leaf=9, rfc__max_features=auto, rfc__max_depth=None \n"
     ]
    },
    {
     "name": "stderr",
     "output_type": "stream",
     "text": [
      "[Parallel(n_jobs=1)]: Done   3 out of   3 | elapsed:    0.6s remaining:    0.0s\n"
     ]
    },
    {
     "name": "stdout",
     "output_type": "stream",
     "text": [
      "[CV]  vect__ngram_range=(1, 2), tfidf__use_idf=True, rfc__n_estimators=120, rfc__min_samples_split=9, rfc__min_samples_leaf=9, rfc__max_features=auto, rfc__max_depth=None, score=0.861, total=   0.2s\n",
      "[CV] vect__ngram_range=(1, 2), tfidf__use_idf=True, rfc__n_estimators=120, rfc__min_samples_split=9, rfc__min_samples_leaf=9, rfc__max_features=auto, rfc__max_depth=None \n",
      "[CV]  vect__ngram_range=(1, 2), tfidf__use_idf=True, rfc__n_estimators=120, rfc__min_samples_split=9, rfc__min_samples_leaf=9, rfc__max_features=auto, rfc__max_depth=None, score=0.822, total=   0.2s"
     ]
    },
    {
     "name": "stderr",
     "output_type": "stream",
     "text": [
      "[Parallel(n_jobs=1)]: Done   4 out of   4 | elapsed:    0.8s remaining:    0.0s\n"
     ]
    },
    {
     "name": "stdout",
     "output_type": "stream",
     "text": [
      "\n",
      "[CV] vect__ngram_range=(1, 1), tfidf__use_idf=True, rfc__n_estimators=220, rfc__min_samples_split=1, rfc__min_samples_leaf=1, rfc__max_features=log2, rfc__max_depth=None \n",
      "[CV]  vect__ngram_range=(1, 1), tfidf__use_idf=True, rfc__n_estimators=220, rfc__min_samples_split=1, rfc__min_samples_leaf=1, rfc__max_features=log2, rfc__max_depth=None, score=nan, total=   0.1s\n",
      "[CV] vect__ngram_range=(1, 1), tfidf__use_idf=True, rfc__n_estimators=220, rfc__min_samples_split=1, rfc__min_samples_leaf=1, rfc__max_features=log2, rfc__max_depth=None \n"
     ]
    },
    {
     "name": "stderr",
     "output_type": "stream",
     "text": [
      "[Parallel(n_jobs=1)]: Done   5 out of   5 | elapsed:    1.0s remaining:    0.0s\n",
      "C:\\Users\\audia\\AppData\\Roaming\\Python\\Python38\\site-packages\\sklearn\\model_selection\\_validation.py:548: FitFailedWarning: Estimator fit failed. The score on this train-test partition for these parameters will be set to nan. Details: \n",
      "Traceback (most recent call last):\n",
      "  File \"C:\\Users\\audia\\AppData\\Roaming\\Python\\Python38\\site-packages\\sklearn\\model_selection\\_validation.py\", line 531, in _fit_and_score\n",
      "    estimator.fit(X_train, y_train, **fit_params)\n",
      "  File \"C:\\Users\\audia\\AppData\\Roaming\\Python\\Python38\\site-packages\\sklearn\\pipeline.py\", line 335, in fit\n",
      "    self._final_estimator.fit(Xt, y, **fit_params_last_step)\n",
      "  File \"C:\\Users\\audia\\AppData\\Roaming\\Python\\Python38\\site-packages\\sklearn\\ensemble\\_forest.py\", line 386, in fit\n",
      "    trees = Parallel(n_jobs=self.n_jobs, verbose=self.verbose,\n",
      "  File \"C:\\Users\\audia\\AppData\\Roaming\\Python\\Python38\\site-packages\\joblib\\parallel.py\", line 1041, in __call__\n",
      "    if self.dispatch_one_batch(iterator):\n",
      "  File \"C:\\Users\\audia\\AppData\\Roaming\\Python\\Python38\\site-packages\\joblib\\parallel.py\", line 859, in dispatch_one_batch\n",
      "    self._dispatch(tasks)\n",
      "  File \"C:\\Users\\audia\\AppData\\Roaming\\Python\\Python38\\site-packages\\joblib\\parallel.py\", line 777, in _dispatch\n",
      "    job = self._backend.apply_async(batch, callback=cb)\n",
      "  File \"C:\\Users\\audia\\AppData\\Roaming\\Python\\Python38\\site-packages\\joblib\\_parallel_backends.py\", line 208, in apply_async\n",
      "    result = ImmediateResult(func)\n",
      "  File \"C:\\Users\\audia\\AppData\\Roaming\\Python\\Python38\\site-packages\\joblib\\_parallel_backends.py\", line 572, in __init__\n",
      "    self.results = batch()\n",
      "  File \"C:\\Users\\audia\\AppData\\Roaming\\Python\\Python38\\site-packages\\joblib\\parallel.py\", line 262, in __call__\n",
      "    return [func(*args, **kwargs)\n",
      "  File \"C:\\Users\\audia\\AppData\\Roaming\\Python\\Python38\\site-packages\\joblib\\parallel.py\", line 262, in <listcomp>\n",
      "    return [func(*args, **kwargs)\n",
      "  File \"C:\\Users\\audia\\AppData\\Roaming\\Python\\Python38\\site-packages\\sklearn\\ensemble\\_forest.py\", line 168, in _parallel_build_trees\n",
      "    tree.fit(X, y, sample_weight=curr_sample_weight, check_input=False)\n",
      "  File \"C:\\Users\\audia\\AppData\\Roaming\\Python\\Python38\\site-packages\\sklearn\\tree\\_classes.py\", line 890, in fit\n",
      "    super().fit(\n",
      "  File \"C:\\Users\\audia\\AppData\\Roaming\\Python\\Python38\\site-packages\\sklearn\\tree\\_classes.py\", line 228, in fit\n",
      "    raise ValueError(\"min_samples_split must be an integer \"\n",
      "ValueError: min_samples_split must be an integer greater than 1 or a float in (0.0, 1.0]; got the integer 1\n",
      "\n",
      "  warnings.warn(\"Estimator fit failed. The score on this train-test\"\n",
      "[Parallel(n_jobs=1)]: Done   6 out of   6 | elapsed:    1.2s remaining:    0.0s\n",
      "C:\\Users\\audia\\AppData\\Roaming\\Python\\Python38\\site-packages\\sklearn\\model_selection\\_validation.py:548: FitFailedWarning: Estimator fit failed. The score on this train-test partition for these parameters will be set to nan. Details: \n",
      "Traceback (most recent call last):\n",
      "  File \"C:\\Users\\audia\\AppData\\Roaming\\Python\\Python38\\site-packages\\sklearn\\model_selection\\_validation.py\", line 531, in _fit_and_score\n",
      "    estimator.fit(X_train, y_train, **fit_params)\n",
      "  File \"C:\\Users\\audia\\AppData\\Roaming\\Python\\Python38\\site-packages\\sklearn\\pipeline.py\", line 335, in fit\n",
      "    self._final_estimator.fit(Xt, y, **fit_params_last_step)\n",
      "  File \"C:\\Users\\audia\\AppData\\Roaming\\Python\\Python38\\site-packages\\sklearn\\ensemble\\_forest.py\", line 386, in fit\n",
      "    trees = Parallel(n_jobs=self.n_jobs, verbose=self.verbose,\n",
      "  File \"C:\\Users\\audia\\AppData\\Roaming\\Python\\Python38\\site-packages\\joblib\\parallel.py\", line 1041, in __call__\n",
      "    if self.dispatch_one_batch(iterator):\n",
      "  File \"C:\\Users\\audia\\AppData\\Roaming\\Python\\Python38\\site-packages\\joblib\\parallel.py\", line 859, in dispatch_one_batch\n",
      "    self._dispatch(tasks)\n",
      "  File \"C:\\Users\\audia\\AppData\\Roaming\\Python\\Python38\\site-packages\\joblib\\parallel.py\", line 777, in _dispatch\n",
      "    job = self._backend.apply_async(batch, callback=cb)\n",
      "  File \"C:\\Users\\audia\\AppData\\Roaming\\Python\\Python38\\site-packages\\joblib\\_parallel_backends.py\", line 208, in apply_async\n",
      "    result = ImmediateResult(func)\n",
      "  File \"C:\\Users\\audia\\AppData\\Roaming\\Python\\Python38\\site-packages\\joblib\\_parallel_backends.py\", line 572, in __init__\n",
      "    self.results = batch()\n",
      "  File \"C:\\Users\\audia\\AppData\\Roaming\\Python\\Python38\\site-packages\\joblib\\parallel.py\", line 262, in __call__\n",
      "    return [func(*args, **kwargs)\n",
      "  File \"C:\\Users\\audia\\AppData\\Roaming\\Python\\Python38\\site-packages\\joblib\\parallel.py\", line 262, in <listcomp>\n",
      "    return [func(*args, **kwargs)\n",
      "  File \"C:\\Users\\audia\\AppData\\Roaming\\Python\\Python38\\site-packages\\sklearn\\ensemble\\_forest.py\", line 168, in _parallel_build_trees\n",
      "    tree.fit(X, y, sample_weight=curr_sample_weight, check_input=False)\n",
      "  File \"C:\\Users\\audia\\AppData\\Roaming\\Python\\Python38\\site-packages\\sklearn\\tree\\_classes.py\", line 890, in fit\n",
      "    super().fit(\n",
      "  File \"C:\\Users\\audia\\AppData\\Roaming\\Python\\Python38\\site-packages\\sklearn\\tree\\_classes.py\", line 228, in fit\n",
      "    raise ValueError(\"min_samples_split must be an integer \"\n",
      "ValueError: min_samples_split must be an integer greater than 1 or a float in (0.0, 1.0]; got the integer 1\n",
      "\n",
      "  warnings.warn(\"Estimator fit failed. The score on this train-test\"\n",
      "[Parallel(n_jobs=1)]: Done   7 out of   7 | elapsed:    1.3s remaining:    0.0s\n"
     ]
    },
    {
     "name": "stdout",
     "output_type": "stream",
     "text": [
      "[CV]  vect__ngram_range=(1, 1), tfidf__use_idf=True, rfc__n_estimators=220, rfc__min_samples_split=1, rfc__min_samples_leaf=1, rfc__max_features=log2, rfc__max_depth=None, score=nan, total=   0.1s\n",
      "[CV] vect__ngram_range=(1, 1), tfidf__use_idf=True, rfc__n_estimators=220, rfc__min_samples_split=1, rfc__min_samples_leaf=1, rfc__max_features=log2, rfc__max_depth=None \n",
      "[CV]  vect__ngram_range=(1, 1), tfidf__use_idf=True, rfc__n_estimators=220, rfc__min_samples_split=1, rfc__min_samples_leaf=1, rfc__max_features=log2, rfc__max_depth=None, score=nan, total=   0.1s\n",
      "[CV] vect__ngram_range=(1, 1), tfidf__use_idf=True, rfc__n_estimators=220, rfc__min_samples_split=1, rfc__min_samples_leaf=1, rfc__max_features=log2, rfc__max_depth=None \n"
     ]
    },
    {
     "name": "stderr",
     "output_type": "stream",
     "text": [
      "C:\\Users\\audia\\AppData\\Roaming\\Python\\Python38\\site-packages\\sklearn\\model_selection\\_validation.py:548: FitFailedWarning: Estimator fit failed. The score on this train-test partition for these parameters will be set to nan. Details: \n",
      "Traceback (most recent call last):\n",
      "  File \"C:\\Users\\audia\\AppData\\Roaming\\Python\\Python38\\site-packages\\sklearn\\model_selection\\_validation.py\", line 531, in _fit_and_score\n",
      "    estimator.fit(X_train, y_train, **fit_params)\n",
      "  File \"C:\\Users\\audia\\AppData\\Roaming\\Python\\Python38\\site-packages\\sklearn\\pipeline.py\", line 335, in fit\n",
      "    self._final_estimator.fit(Xt, y, **fit_params_last_step)\n",
      "  File \"C:\\Users\\audia\\AppData\\Roaming\\Python\\Python38\\site-packages\\sklearn\\ensemble\\_forest.py\", line 386, in fit\n",
      "    trees = Parallel(n_jobs=self.n_jobs, verbose=self.verbose,\n",
      "  File \"C:\\Users\\audia\\AppData\\Roaming\\Python\\Python38\\site-packages\\joblib\\parallel.py\", line 1041, in __call__\n",
      "    if self.dispatch_one_batch(iterator):\n",
      "  File \"C:\\Users\\audia\\AppData\\Roaming\\Python\\Python38\\site-packages\\joblib\\parallel.py\", line 859, in dispatch_one_batch\n",
      "    self._dispatch(tasks)\n",
      "  File \"C:\\Users\\audia\\AppData\\Roaming\\Python\\Python38\\site-packages\\joblib\\parallel.py\", line 777, in _dispatch\n",
      "    job = self._backend.apply_async(batch, callback=cb)\n",
      "  File \"C:\\Users\\audia\\AppData\\Roaming\\Python\\Python38\\site-packages\\joblib\\_parallel_backends.py\", line 208, in apply_async\n",
      "    result = ImmediateResult(func)\n",
      "  File \"C:\\Users\\audia\\AppData\\Roaming\\Python\\Python38\\site-packages\\joblib\\_parallel_backends.py\", line 572, in __init__\n",
      "    self.results = batch()\n",
      "  File \"C:\\Users\\audia\\AppData\\Roaming\\Python\\Python38\\site-packages\\joblib\\parallel.py\", line 262, in __call__\n",
      "    return [func(*args, **kwargs)\n",
      "  File \"C:\\Users\\audia\\AppData\\Roaming\\Python\\Python38\\site-packages\\joblib\\parallel.py\", line 262, in <listcomp>\n",
      "    return [func(*args, **kwargs)\n",
      "  File \"C:\\Users\\audia\\AppData\\Roaming\\Python\\Python38\\site-packages\\sklearn\\ensemble\\_forest.py\", line 168, in _parallel_build_trees\n",
      "    tree.fit(X, y, sample_weight=curr_sample_weight, check_input=False)\n",
      "  File \"C:\\Users\\audia\\AppData\\Roaming\\Python\\Python38\\site-packages\\sklearn\\tree\\_classes.py\", line 890, in fit\n",
      "    super().fit(\n",
      "  File \"C:\\Users\\audia\\AppData\\Roaming\\Python\\Python38\\site-packages\\sklearn\\tree\\_classes.py\", line 228, in fit\n",
      "    raise ValueError(\"min_samples_split must be an integer \"\n",
      "ValueError: min_samples_split must be an integer greater than 1 or a float in (0.0, 1.0]; got the integer 1\n",
      "\n",
      "  warnings.warn(\"Estimator fit failed. The score on this train-test\"\n",
      "C:\\Users\\audia\\AppData\\Roaming\\Python\\Python38\\site-packages\\sklearn\\model_selection\\_validation.py:548: FitFailedWarning: Estimator fit failed. The score on this train-test partition for these parameters will be set to nan. Details: \n",
      "Traceback (most recent call last):\n",
      "  File \"C:\\Users\\audia\\AppData\\Roaming\\Python\\Python38\\site-packages\\sklearn\\model_selection\\_validation.py\", line 531, in _fit_and_score\n",
      "    estimator.fit(X_train, y_train, **fit_params)\n",
      "  File \"C:\\Users\\audia\\AppData\\Roaming\\Python\\Python38\\site-packages\\sklearn\\pipeline.py\", line 335, in fit\n",
      "    self._final_estimator.fit(Xt, y, **fit_params_last_step)\n",
      "  File \"C:\\Users\\audia\\AppData\\Roaming\\Python\\Python38\\site-packages\\sklearn\\ensemble\\_forest.py\", line 386, in fit\n",
      "    trees = Parallel(n_jobs=self.n_jobs, verbose=self.verbose,\n",
      "  File \"C:\\Users\\audia\\AppData\\Roaming\\Python\\Python38\\site-packages\\joblib\\parallel.py\", line 1041, in __call__\n",
      "    if self.dispatch_one_batch(iterator):\n",
      "  File \"C:\\Users\\audia\\AppData\\Roaming\\Python\\Python38\\site-packages\\joblib\\parallel.py\", line 859, in dispatch_one_batch\n",
      "    self._dispatch(tasks)\n",
      "  File \"C:\\Users\\audia\\AppData\\Roaming\\Python\\Python38\\site-packages\\joblib\\parallel.py\", line 777, in _dispatch\n",
      "    job = self._backend.apply_async(batch, callback=cb)\n",
      "  File \"C:\\Users\\audia\\AppData\\Roaming\\Python\\Python38\\site-packages\\joblib\\_parallel_backends.py\", line 208, in apply_async\n",
      "    result = ImmediateResult(func)\n",
      "  File \"C:\\Users\\audia\\AppData\\Roaming\\Python\\Python38\\site-packages\\joblib\\_parallel_backends.py\", line 572, in __init__\n",
      "    self.results = batch()\n",
      "  File \"C:\\Users\\audia\\AppData\\Roaming\\Python\\Python38\\site-packages\\joblib\\parallel.py\", line 262, in __call__\n",
      "    return [func(*args, **kwargs)\n",
      "  File \"C:\\Users\\audia\\AppData\\Roaming\\Python\\Python38\\site-packages\\joblib\\parallel.py\", line 262, in <listcomp>\n",
      "    return [func(*args, **kwargs)\n",
      "  File \"C:\\Users\\audia\\AppData\\Roaming\\Python\\Python38\\site-packages\\sklearn\\ensemble\\_forest.py\", line 168, in _parallel_build_trees\n",
      "    tree.fit(X, y, sample_weight=curr_sample_weight, check_input=False)\n",
      "  File \"C:\\Users\\audia\\AppData\\Roaming\\Python\\Python38\\site-packages\\sklearn\\tree\\_classes.py\", line 890, in fit\n",
      "    super().fit(\n",
      "  File \"C:\\Users\\audia\\AppData\\Roaming\\Python\\Python38\\site-packages\\sklearn\\tree\\_classes.py\", line 228, in fit\n",
      "    raise ValueError(\"min_samples_split must be an integer \"\n",
      "ValueError: min_samples_split must be an integer greater than 1 or a float in (0.0, 1.0]; got the integer 1\n",
      "\n",
      "  warnings.warn(\"Estimator fit failed. The score on this train-test\"\n",
      "C:\\Users\\audia\\AppData\\Roaming\\Python\\Python38\\site-packages\\sklearn\\model_selection\\_validation.py:548: FitFailedWarning: Estimator fit failed. The score on this train-test partition for these parameters will be set to nan. Details: \n",
      "Traceback (most recent call last):\n",
      "  File \"C:\\Users\\audia\\AppData\\Roaming\\Python\\Python38\\site-packages\\sklearn\\model_selection\\_validation.py\", line 531, in _fit_and_score\n",
      "    estimator.fit(X_train, y_train, **fit_params)\n",
      "  File \"C:\\Users\\audia\\AppData\\Roaming\\Python\\Python38\\site-packages\\sklearn\\pipeline.py\", line 335, in fit\n",
      "    self._final_estimator.fit(Xt, y, **fit_params_last_step)\n",
      "  File \"C:\\Users\\audia\\AppData\\Roaming\\Python\\Python38\\site-packages\\sklearn\\ensemble\\_forest.py\", line 386, in fit\n",
      "    trees = Parallel(n_jobs=self.n_jobs, verbose=self.verbose,\n",
      "  File \"C:\\Users\\audia\\AppData\\Roaming\\Python\\Python38\\site-packages\\joblib\\parallel.py\", line 1041, in __call__\n",
      "    if self.dispatch_one_batch(iterator):\n",
      "  File \"C:\\Users\\audia\\AppData\\Roaming\\Python\\Python38\\site-packages\\joblib\\parallel.py\", line 859, in dispatch_one_batch\n",
      "    self._dispatch(tasks)\n",
      "  File \"C:\\Users\\audia\\AppData\\Roaming\\Python\\Python38\\site-packages\\joblib\\parallel.py\", line 777, in _dispatch\n",
      "    job = self._backend.apply_async(batch, callback=cb)\n",
      "  File \"C:\\Users\\audia\\AppData\\Roaming\\Python\\Python38\\site-packages\\joblib\\_parallel_backends.py\", line 208, in apply_async\n",
      "    result = ImmediateResult(func)\n",
      "  File \"C:\\Users\\audia\\AppData\\Roaming\\Python\\Python38\\site-packages\\joblib\\_parallel_backends.py\", line 572, in __init__\n",
      "    self.results = batch()\n",
      "  File \"C:\\Users\\audia\\AppData\\Roaming\\Python\\Python38\\site-packages\\joblib\\parallel.py\", line 262, in __call__\n",
      "    return [func(*args, **kwargs)\n",
      "  File \"C:\\Users\\audia\\AppData\\Roaming\\Python\\Python38\\site-packages\\joblib\\parallel.py\", line 262, in <listcomp>\n",
      "    return [func(*args, **kwargs)\n",
      "  File \"C:\\Users\\audia\\AppData\\Roaming\\Python\\Python38\\site-packages\\sklearn\\ensemble\\_forest.py\", line 168, in _parallel_build_trees\n",
      "    tree.fit(X, y, sample_weight=curr_sample_weight, check_input=False)\n",
      "  File \"C:\\Users\\audia\\AppData\\Roaming\\Python\\Python38\\site-packages\\sklearn\\tree\\_classes.py\", line 890, in fit\n",
      "    super().fit(\n",
      "  File \"C:\\Users\\audia\\AppData\\Roaming\\Python\\Python38\\site-packages\\sklearn\\tree\\_classes.py\", line 228, in fit\n",
      "    raise ValueError(\"min_samples_split must be an integer \"\n",
      "ValueError: min_samples_split must be an integer greater than 1 or a float in (0.0, 1.0]; got the integer 1\n",
      "\n",
      "  warnings.warn(\"Estimator fit failed. The score on this train-test\"\n"
     ]
    },
    {
     "name": "stdout",
     "output_type": "stream",
     "text": [
      "[CV]  vect__ngram_range=(1, 1), tfidf__use_idf=True, rfc__n_estimators=220, rfc__min_samples_split=1, rfc__min_samples_leaf=1, rfc__max_features=log2, rfc__max_depth=None, score=nan, total=   0.1s\n",
      "[CV] vect__ngram_range=(1, 1), tfidf__use_idf=True, rfc__n_estimators=220, rfc__min_samples_split=1, rfc__min_samples_leaf=1, rfc__max_features=log2, rfc__max_depth=None \n",
      "[CV]  vect__ngram_range=(1, 1), tfidf__use_idf=True, rfc__n_estimators=220, rfc__min_samples_split=1, rfc__min_samples_leaf=1, rfc__max_features=log2, rfc__max_depth=None, score=nan, total=   0.1s\n",
      "[CV] vect__ngram_range=(1, 2), tfidf__use_idf=True, rfc__n_estimators=280, rfc__min_samples_split=8, rfc__min_samples_leaf=1, rfc__max_features=None, rfc__max_depth=None \n",
      "[CV]  vect__ngram_range=(1, 2), tfidf__use_idf=True, rfc__n_estimators=280, rfc__min_samples_split=8, rfc__min_samples_leaf=1, rfc__max_features=None, rfc__max_depth=None, score=0.923, total=   7.5s\n",
      "[CV] vect__ngram_range=(1, 2), tfidf__use_idf=True, rfc__n_estimators=280, rfc__min_samples_split=8, rfc__min_samples_leaf=1, rfc__max_features=None, rfc__max_depth=None \n",
      "[CV]  vect__ngram_range=(1, 2), tfidf__use_idf=True, rfc__n_estimators=280, rfc__min_samples_split=8, rfc__min_samples_leaf=1, rfc__max_features=None, rfc__max_depth=None, score=0.947, total=   6.4s\n",
      "[CV] vect__ngram_range=(1, 2), tfidf__use_idf=True, rfc__n_estimators=280, rfc__min_samples_split=8, rfc__min_samples_leaf=1, rfc__max_features=None, rfc__max_depth=None \n",
      "[CV]  vect__ngram_range=(1, 2), tfidf__use_idf=True, rfc__n_estimators=280, rfc__min_samples_split=8, rfc__min_samples_leaf=1, rfc__max_features=None, rfc__max_depth=None, score=0.933, total=   7.2s\n",
      "[CV] vect__ngram_range=(1, 2), tfidf__use_idf=True, rfc__n_estimators=280, rfc__min_samples_split=8, rfc__min_samples_leaf=1, rfc__max_features=None, rfc__max_depth=None \n",
      "[CV]  vect__ngram_range=(1, 2), tfidf__use_idf=True, rfc__n_estimators=280, rfc__min_samples_split=8, rfc__min_samples_leaf=1, rfc__max_features=None, rfc__max_depth=None, score=0.942, total=   7.7s\n",
      "[CV] vect__ngram_range=(1, 2), tfidf__use_idf=True, rfc__n_estimators=280, rfc__min_samples_split=8, rfc__min_samples_leaf=1, rfc__max_features=None, rfc__max_depth=None \n",
      "[CV]  vect__ngram_range=(1, 2), tfidf__use_idf=True, rfc__n_estimators=280, rfc__min_samples_split=8, rfc__min_samples_leaf=1, rfc__max_features=None, rfc__max_depth=None, score=0.928, total=   7.4s\n",
      "[CV] vect__ngram_range=(1, 2), tfidf__use_idf=True, rfc__n_estimators=100, rfc__min_samples_split=7, rfc__min_samples_leaf=5, rfc__max_features=sqrt, rfc__max_depth=[5, 10, 15, 20, 25, 30, 35, 40, 45, 50, 55, 60, 65, 70, 75, 80, 85, 90, 95] \n",
      "[CV]  vect__ngram_range=(1, 2), tfidf__use_idf=True, rfc__n_estimators=100, rfc__min_samples_split=7, rfc__min_samples_leaf=5, rfc__max_features=sqrt, rfc__max_depth=[5, 10, 15, 20, 25, 30, 35, 40, 45, 50, 55, 60, 65, 70, 75, 80, 85, 90, 95], score=nan, total=   0.1s\n",
      "[CV] vect__ngram_range=(1, 2), tfidf__use_idf=True, rfc__n_estimators=100, rfc__min_samples_split=7, rfc__min_samples_leaf=5, rfc__max_features=sqrt, rfc__max_depth=[5, 10, 15, 20, 25, 30, 35, 40, 45, 50, 55, 60, 65, 70, 75, 80, 85, 90, 95] \n",
      "[CV]  vect__ngram_range=(1, 2), tfidf__use_idf=True, rfc__n_estimators=100, rfc__min_samples_split=7, rfc__min_samples_leaf=5, rfc__max_features=sqrt, rfc__max_depth=[5, 10, 15, 20, 25, 30, 35, 40, 45, 50, 55, 60, 65, 70, 75, 80, 85, 90, 95], score=nan, total=   0.1s\n",
      "[CV] vect__ngram_range=(1, 2), tfidf__use_idf=True, rfc__n_estimators=100, rfc__min_samples_split=7, rfc__min_samples_leaf=5, rfc__max_features=sqrt, rfc__max_depth=[5, 10, 15, 20, 25, 30, 35, 40, 45, 50, 55, 60, 65, 70, 75, 80, 85, 90, 95] \n"
     ]
    },
    {
     "name": "stderr",
     "output_type": "stream",
     "text": [
      "C:\\Users\\audia\\AppData\\Roaming\\Python\\Python38\\site-packages\\sklearn\\model_selection\\_validation.py:548: FitFailedWarning: Estimator fit failed. The score on this train-test partition for these parameters will be set to nan. Details: \n",
      "Traceback (most recent call last):\n",
      "  File \"C:\\Users\\audia\\AppData\\Roaming\\Python\\Python38\\site-packages\\sklearn\\model_selection\\_validation.py\", line 531, in _fit_and_score\n",
      "    estimator.fit(X_train, y_train, **fit_params)\n",
      "  File \"C:\\Users\\audia\\AppData\\Roaming\\Python\\Python38\\site-packages\\sklearn\\pipeline.py\", line 335, in fit\n",
      "    self._final_estimator.fit(Xt, y, **fit_params_last_step)\n",
      "  File \"C:\\Users\\audia\\AppData\\Roaming\\Python\\Python38\\site-packages\\sklearn\\ensemble\\_forest.py\", line 386, in fit\n",
      "    trees = Parallel(n_jobs=self.n_jobs, verbose=self.verbose,\n",
      "  File \"C:\\Users\\audia\\AppData\\Roaming\\Python\\Python38\\site-packages\\joblib\\parallel.py\", line 1041, in __call__\n",
      "    if self.dispatch_one_batch(iterator):\n",
      "  File \"C:\\Users\\audia\\AppData\\Roaming\\Python\\Python38\\site-packages\\joblib\\parallel.py\", line 859, in dispatch_one_batch\n",
      "    self._dispatch(tasks)\n",
      "  File \"C:\\Users\\audia\\AppData\\Roaming\\Python\\Python38\\site-packages\\joblib\\parallel.py\", line 777, in _dispatch\n",
      "    job = self._backend.apply_async(batch, callback=cb)\n",
      "  File \"C:\\Users\\audia\\AppData\\Roaming\\Python\\Python38\\site-packages\\joblib\\_parallel_backends.py\", line 208, in apply_async\n",
      "    result = ImmediateResult(func)\n",
      "  File \"C:\\Users\\audia\\AppData\\Roaming\\Python\\Python38\\site-packages\\joblib\\_parallel_backends.py\", line 572, in __init__\n",
      "    self.results = batch()\n",
      "  File \"C:\\Users\\audia\\AppData\\Roaming\\Python\\Python38\\site-packages\\joblib\\parallel.py\", line 262, in __call__\n",
      "    return [func(*args, **kwargs)\n",
      "  File \"C:\\Users\\audia\\AppData\\Roaming\\Python\\Python38\\site-packages\\joblib\\parallel.py\", line 262, in <listcomp>\n",
      "    return [func(*args, **kwargs)\n",
      "  File \"C:\\Users\\audia\\AppData\\Roaming\\Python\\Python38\\site-packages\\sklearn\\ensemble\\_forest.py\", line 168, in _parallel_build_trees\n",
      "    tree.fit(X, y, sample_weight=curr_sample_weight, check_input=False)\n",
      "  File \"C:\\Users\\audia\\AppData\\Roaming\\Python\\Python38\\site-packages\\sklearn\\tree\\_classes.py\", line 890, in fit\n",
      "    super().fit(\n",
      "  File \"C:\\Users\\audia\\AppData\\Roaming\\Python\\Python38\\site-packages\\sklearn\\tree\\_classes.py\", line 276, in fit\n",
      "    if max_depth <= 0:\n",
      "TypeError: '<=' not supported between instances of 'list' and 'int'\n",
      "\n",
      "  warnings.warn(\"Estimator fit failed. The score on this train-test\"\n",
      "C:\\Users\\audia\\AppData\\Roaming\\Python\\Python38\\site-packages\\sklearn\\model_selection\\_validation.py:548: FitFailedWarning: Estimator fit failed. The score on this train-test partition for these parameters will be set to nan. Details: \n",
      "Traceback (most recent call last):\n",
      "  File \"C:\\Users\\audia\\AppData\\Roaming\\Python\\Python38\\site-packages\\sklearn\\model_selection\\_validation.py\", line 531, in _fit_and_score\n",
      "    estimator.fit(X_train, y_train, **fit_params)\n",
      "  File \"C:\\Users\\audia\\AppData\\Roaming\\Python\\Python38\\site-packages\\sklearn\\pipeline.py\", line 335, in fit\n",
      "    self._final_estimator.fit(Xt, y, **fit_params_last_step)\n",
      "  File \"C:\\Users\\audia\\AppData\\Roaming\\Python\\Python38\\site-packages\\sklearn\\ensemble\\_forest.py\", line 386, in fit\n",
      "    trees = Parallel(n_jobs=self.n_jobs, verbose=self.verbose,\n",
      "  File \"C:\\Users\\audia\\AppData\\Roaming\\Python\\Python38\\site-packages\\joblib\\parallel.py\", line 1041, in __call__\n",
      "    if self.dispatch_one_batch(iterator):\n",
      "  File \"C:\\Users\\audia\\AppData\\Roaming\\Python\\Python38\\site-packages\\joblib\\parallel.py\", line 859, in dispatch_one_batch\n",
      "    self._dispatch(tasks)\n",
      "  File \"C:\\Users\\audia\\AppData\\Roaming\\Python\\Python38\\site-packages\\joblib\\parallel.py\", line 777, in _dispatch\n",
      "    job = self._backend.apply_async(batch, callback=cb)\n",
      "  File \"C:\\Users\\audia\\AppData\\Roaming\\Python\\Python38\\site-packages\\joblib\\_parallel_backends.py\", line 208, in apply_async\n",
      "    result = ImmediateResult(func)\n",
      "  File \"C:\\Users\\audia\\AppData\\Roaming\\Python\\Python38\\site-packages\\joblib\\_parallel_backends.py\", line 572, in __init__\n",
      "    self.results = batch()\n",
      "  File \"C:\\Users\\audia\\AppData\\Roaming\\Python\\Python38\\site-packages\\joblib\\parallel.py\", line 262, in __call__\n",
      "    return [func(*args, **kwargs)\n",
      "  File \"C:\\Users\\audia\\AppData\\Roaming\\Python\\Python38\\site-packages\\joblib\\parallel.py\", line 262, in <listcomp>\n",
      "    return [func(*args, **kwargs)\n",
      "  File \"C:\\Users\\audia\\AppData\\Roaming\\Python\\Python38\\site-packages\\sklearn\\ensemble\\_forest.py\", line 168, in _parallel_build_trees\n",
      "    tree.fit(X, y, sample_weight=curr_sample_weight, check_input=False)\n",
      "  File \"C:\\Users\\audia\\AppData\\Roaming\\Python\\Python38\\site-packages\\sklearn\\tree\\_classes.py\", line 890, in fit\n",
      "    super().fit(\n",
      "  File \"C:\\Users\\audia\\AppData\\Roaming\\Python\\Python38\\site-packages\\sklearn\\tree\\_classes.py\", line 276, in fit\n",
      "    if max_depth <= 0:\n",
      "TypeError: '<=' not supported between instances of 'list' and 'int'\n",
      "\n",
      "  warnings.warn(\"Estimator fit failed. The score on this train-test\"\n",
      "C:\\Users\\audia\\AppData\\Roaming\\Python\\Python38\\site-packages\\sklearn\\model_selection\\_validation.py:548: FitFailedWarning: Estimator fit failed. The score on this train-test partition for these parameters will be set to nan. Details: \n",
      "Traceback (most recent call last):\n",
      "  File \"C:\\Users\\audia\\AppData\\Roaming\\Python\\Python38\\site-packages\\sklearn\\model_selection\\_validation.py\", line 531, in _fit_and_score\n",
      "    estimator.fit(X_train, y_train, **fit_params)\n",
      "  File \"C:\\Users\\audia\\AppData\\Roaming\\Python\\Python38\\site-packages\\sklearn\\pipeline.py\", line 335, in fit\n",
      "    self._final_estimator.fit(Xt, y, **fit_params_last_step)\n",
      "  File \"C:\\Users\\audia\\AppData\\Roaming\\Python\\Python38\\site-packages\\sklearn\\ensemble\\_forest.py\", line 386, in fit\n",
      "    trees = Parallel(n_jobs=self.n_jobs, verbose=self.verbose,\n",
      "  File \"C:\\Users\\audia\\AppData\\Roaming\\Python\\Python38\\site-packages\\joblib\\parallel.py\", line 1041, in __call__\n",
      "    if self.dispatch_one_batch(iterator):\n",
      "  File \"C:\\Users\\audia\\AppData\\Roaming\\Python\\Python38\\site-packages\\joblib\\parallel.py\", line 859, in dispatch_one_batch\n",
      "    self._dispatch(tasks)\n",
      "  File \"C:\\Users\\audia\\AppData\\Roaming\\Python\\Python38\\site-packages\\joblib\\parallel.py\", line 777, in _dispatch\n",
      "    job = self._backend.apply_async(batch, callback=cb)\n",
      "  File \"C:\\Users\\audia\\AppData\\Roaming\\Python\\Python38\\site-packages\\joblib\\_parallel_backends.py\", line 208, in apply_async\n",
      "    result = ImmediateResult(func)\n",
      "  File \"C:\\Users\\audia\\AppData\\Roaming\\Python\\Python38\\site-packages\\joblib\\_parallel_backends.py\", line 572, in __init__\n",
      "    self.results = batch()\n",
      "  File \"C:\\Users\\audia\\AppData\\Roaming\\Python\\Python38\\site-packages\\joblib\\parallel.py\", line 262, in __call__\n",
      "    return [func(*args, **kwargs)\n",
      "  File \"C:\\Users\\audia\\AppData\\Roaming\\Python\\Python38\\site-packages\\joblib\\parallel.py\", line 262, in <listcomp>\n",
      "    return [func(*args, **kwargs)\n",
      "  File \"C:\\Users\\audia\\AppData\\Roaming\\Python\\Python38\\site-packages\\sklearn\\ensemble\\_forest.py\", line 168, in _parallel_build_trees\n",
      "    tree.fit(X, y, sample_weight=curr_sample_weight, check_input=False)\n",
      "  File \"C:\\Users\\audia\\AppData\\Roaming\\Python\\Python38\\site-packages\\sklearn\\tree\\_classes.py\", line 890, in fit\n",
      "    super().fit(\n",
      "  File \"C:\\Users\\audia\\AppData\\Roaming\\Python\\Python38\\site-packages\\sklearn\\tree\\_classes.py\", line 276, in fit\n",
      "    if max_depth <= 0:\n",
      "TypeError: '<=' not supported between instances of 'list' and 'int'\n",
      "\n",
      "  warnings.warn(\"Estimator fit failed. The score on this train-test\"\n"
     ]
    },
    {
     "name": "stdout",
     "output_type": "stream",
     "text": [
      "[CV]  vect__ngram_range=(1, 2), tfidf__use_idf=True, rfc__n_estimators=100, rfc__min_samples_split=7, rfc__min_samples_leaf=5, rfc__max_features=sqrt, rfc__max_depth=[5, 10, 15, 20, 25, 30, 35, 40, 45, 50, 55, 60, 65, 70, 75, 80, 85, 90, 95], score=nan, total=   0.1s\n",
      "[CV] vect__ngram_range=(1, 2), tfidf__use_idf=True, rfc__n_estimators=100, rfc__min_samples_split=7, rfc__min_samples_leaf=5, rfc__max_features=sqrt, rfc__max_depth=[5, 10, 15, 20, 25, 30, 35, 40, 45, 50, 55, 60, 65, 70, 75, 80, 85, 90, 95] \n",
      "[CV]  vect__ngram_range=(1, 2), tfidf__use_idf=True, rfc__n_estimators=100, rfc__min_samples_split=7, rfc__min_samples_leaf=5, rfc__max_features=sqrt, rfc__max_depth=[5, 10, 15, 20, 25, 30, 35, 40, 45, 50, 55, 60, 65, 70, 75, 80, 85, 90, 95], score=nan, total=   0.1s\n",
      "[CV] vect__ngram_range=(1, 2), tfidf__use_idf=True, rfc__n_estimators=100, rfc__min_samples_split=7, rfc__min_samples_leaf=5, rfc__max_features=sqrt, rfc__max_depth=[5, 10, 15, 20, 25, 30, 35, 40, 45, 50, 55, 60, 65, 70, 75, 80, 85, 90, 95] \n",
      "[CV]  vect__ngram_range=(1, 2), tfidf__use_idf=True, rfc__n_estimators=100, rfc__min_samples_split=7, rfc__min_samples_leaf=5, rfc__max_features=sqrt, rfc__max_depth=[5, 10, 15, 20, 25, 30, 35, 40, 45, 50, 55, 60, 65, 70, 75, 80, 85, 90, 95], score=nan, total=   0.1s\n",
      "[CV] vect__ngram_range=(1, 1), tfidf__use_idf=False, rfc__n_estimators=290, rfc__min_samples_split=9, rfc__min_samples_leaf=8, rfc__max_features=sqrt, rfc__max_depth=None \n"
     ]
    },
    {
     "name": "stderr",
     "output_type": "stream",
     "text": [
      "C:\\Users\\audia\\AppData\\Roaming\\Python\\Python38\\site-packages\\sklearn\\model_selection\\_validation.py:548: FitFailedWarning: Estimator fit failed. The score on this train-test partition for these parameters will be set to nan. Details: \n",
      "Traceback (most recent call last):\n",
      "  File \"C:\\Users\\audia\\AppData\\Roaming\\Python\\Python38\\site-packages\\sklearn\\model_selection\\_validation.py\", line 531, in _fit_and_score\n",
      "    estimator.fit(X_train, y_train, **fit_params)\n",
      "  File \"C:\\Users\\audia\\AppData\\Roaming\\Python\\Python38\\site-packages\\sklearn\\pipeline.py\", line 335, in fit\n",
      "    self._final_estimator.fit(Xt, y, **fit_params_last_step)\n",
      "  File \"C:\\Users\\audia\\AppData\\Roaming\\Python\\Python38\\site-packages\\sklearn\\ensemble\\_forest.py\", line 386, in fit\n",
      "    trees = Parallel(n_jobs=self.n_jobs, verbose=self.verbose,\n",
      "  File \"C:\\Users\\audia\\AppData\\Roaming\\Python\\Python38\\site-packages\\joblib\\parallel.py\", line 1041, in __call__\n",
      "    if self.dispatch_one_batch(iterator):\n",
      "  File \"C:\\Users\\audia\\AppData\\Roaming\\Python\\Python38\\site-packages\\joblib\\parallel.py\", line 859, in dispatch_one_batch\n",
      "    self._dispatch(tasks)\n",
      "  File \"C:\\Users\\audia\\AppData\\Roaming\\Python\\Python38\\site-packages\\joblib\\parallel.py\", line 777, in _dispatch\n",
      "    job = self._backend.apply_async(batch, callback=cb)\n",
      "  File \"C:\\Users\\audia\\AppData\\Roaming\\Python\\Python38\\site-packages\\joblib\\_parallel_backends.py\", line 208, in apply_async\n",
      "    result = ImmediateResult(func)\n",
      "  File \"C:\\Users\\audia\\AppData\\Roaming\\Python\\Python38\\site-packages\\joblib\\_parallel_backends.py\", line 572, in __init__\n",
      "    self.results = batch()\n",
      "  File \"C:\\Users\\audia\\AppData\\Roaming\\Python\\Python38\\site-packages\\joblib\\parallel.py\", line 262, in __call__\n",
      "    return [func(*args, **kwargs)\n",
      "  File \"C:\\Users\\audia\\AppData\\Roaming\\Python\\Python38\\site-packages\\joblib\\parallel.py\", line 262, in <listcomp>\n",
      "    return [func(*args, **kwargs)\n",
      "  File \"C:\\Users\\audia\\AppData\\Roaming\\Python\\Python38\\site-packages\\sklearn\\ensemble\\_forest.py\", line 168, in _parallel_build_trees\n",
      "    tree.fit(X, y, sample_weight=curr_sample_weight, check_input=False)\n",
      "  File \"C:\\Users\\audia\\AppData\\Roaming\\Python\\Python38\\site-packages\\sklearn\\tree\\_classes.py\", line 890, in fit\n",
      "    super().fit(\n",
      "  File \"C:\\Users\\audia\\AppData\\Roaming\\Python\\Python38\\site-packages\\sklearn\\tree\\_classes.py\", line 276, in fit\n",
      "    if max_depth <= 0:\n",
      "TypeError: '<=' not supported between instances of 'list' and 'int'\n",
      "\n",
      "  warnings.warn(\"Estimator fit failed. The score on this train-test\"\n",
      "C:\\Users\\audia\\AppData\\Roaming\\Python\\Python38\\site-packages\\sklearn\\model_selection\\_validation.py:548: FitFailedWarning: Estimator fit failed. The score on this train-test partition for these parameters will be set to nan. Details: \n",
      "Traceback (most recent call last):\n",
      "  File \"C:\\Users\\audia\\AppData\\Roaming\\Python\\Python38\\site-packages\\sklearn\\model_selection\\_validation.py\", line 531, in _fit_and_score\n",
      "    estimator.fit(X_train, y_train, **fit_params)\n",
      "  File \"C:\\Users\\audia\\AppData\\Roaming\\Python\\Python38\\site-packages\\sklearn\\pipeline.py\", line 335, in fit\n",
      "    self._final_estimator.fit(Xt, y, **fit_params_last_step)\n",
      "  File \"C:\\Users\\audia\\AppData\\Roaming\\Python\\Python38\\site-packages\\sklearn\\ensemble\\_forest.py\", line 386, in fit\n",
      "    trees = Parallel(n_jobs=self.n_jobs, verbose=self.verbose,\n",
      "  File \"C:\\Users\\audia\\AppData\\Roaming\\Python\\Python38\\site-packages\\joblib\\parallel.py\", line 1041, in __call__\n",
      "    if self.dispatch_one_batch(iterator):\n",
      "  File \"C:\\Users\\audia\\AppData\\Roaming\\Python\\Python38\\site-packages\\joblib\\parallel.py\", line 859, in dispatch_one_batch\n",
      "    self._dispatch(tasks)\n",
      "  File \"C:\\Users\\audia\\AppData\\Roaming\\Python\\Python38\\site-packages\\joblib\\parallel.py\", line 777, in _dispatch\n",
      "    job = self._backend.apply_async(batch, callback=cb)\n",
      "  File \"C:\\Users\\audia\\AppData\\Roaming\\Python\\Python38\\site-packages\\joblib\\_parallel_backends.py\", line 208, in apply_async\n",
      "    result = ImmediateResult(func)\n",
      "  File \"C:\\Users\\audia\\AppData\\Roaming\\Python\\Python38\\site-packages\\joblib\\_parallel_backends.py\", line 572, in __init__\n",
      "    self.results = batch()\n",
      "  File \"C:\\Users\\audia\\AppData\\Roaming\\Python\\Python38\\site-packages\\joblib\\parallel.py\", line 262, in __call__\n",
      "    return [func(*args, **kwargs)\n",
      "  File \"C:\\Users\\audia\\AppData\\Roaming\\Python\\Python38\\site-packages\\joblib\\parallel.py\", line 262, in <listcomp>\n",
      "    return [func(*args, **kwargs)\n",
      "  File \"C:\\Users\\audia\\AppData\\Roaming\\Python\\Python38\\site-packages\\sklearn\\ensemble\\_forest.py\", line 168, in _parallel_build_trees\n",
      "    tree.fit(X, y, sample_weight=curr_sample_weight, check_input=False)\n",
      "  File \"C:\\Users\\audia\\AppData\\Roaming\\Python\\Python38\\site-packages\\sklearn\\tree\\_classes.py\", line 890, in fit\n",
      "    super().fit(\n",
      "  File \"C:\\Users\\audia\\AppData\\Roaming\\Python\\Python38\\site-packages\\sklearn\\tree\\_classes.py\", line 276, in fit\n",
      "    if max_depth <= 0:\n",
      "TypeError: '<=' not supported between instances of 'list' and 'int'\n",
      "\n",
      "  warnings.warn(\"Estimator fit failed. The score on this train-test\"\n"
     ]
    },
    {
     "name": "stdout",
     "output_type": "stream",
     "text": [
      "[CV]  vect__ngram_range=(1, 1), tfidf__use_idf=False, rfc__n_estimators=290, rfc__min_samples_split=9, rfc__min_samples_leaf=8, rfc__max_features=sqrt, rfc__max_depth=None, score=0.923, total=   0.5s\n",
      "[CV] vect__ngram_range=(1, 1), tfidf__use_idf=False, rfc__n_estimators=290, rfc__min_samples_split=9, rfc__min_samples_leaf=8, rfc__max_features=sqrt, rfc__max_depth=None \n",
      "[CV]  vect__ngram_range=(1, 1), tfidf__use_idf=False, rfc__n_estimators=290, rfc__min_samples_split=9, rfc__min_samples_leaf=8, rfc__max_features=sqrt, rfc__max_depth=None, score=0.894, total=   0.4s\n",
      "[CV] vect__ngram_range=(1, 1), tfidf__use_idf=False, rfc__n_estimators=290, rfc__min_samples_split=9, rfc__min_samples_leaf=8, rfc__max_features=sqrt, rfc__max_depth=None \n",
      "[CV]  vect__ngram_range=(1, 1), tfidf__use_idf=False, rfc__n_estimators=290, rfc__min_samples_split=9, rfc__min_samples_leaf=8, rfc__max_features=sqrt, rfc__max_depth=None, score=0.913, total=   0.5s\n",
      "[CV] vect__ngram_range=(1, 1), tfidf__use_idf=False, rfc__n_estimators=290, rfc__min_samples_split=9, rfc__min_samples_leaf=8, rfc__max_features=sqrt, rfc__max_depth=None \n",
      "[CV]  vect__ngram_range=(1, 1), tfidf__use_idf=False, rfc__n_estimators=290, rfc__min_samples_split=9, rfc__min_samples_leaf=8, rfc__max_features=sqrt, rfc__max_depth=None, score=0.899, total=   0.5s\n",
      "[CV] vect__ngram_range=(1, 1), tfidf__use_idf=False, rfc__n_estimators=290, rfc__min_samples_split=9, rfc__min_samples_leaf=8, rfc__max_features=sqrt, rfc__max_depth=None \n",
      "[CV]  vect__ngram_range=(1, 1), tfidf__use_idf=False, rfc__n_estimators=290, rfc__min_samples_split=9, rfc__min_samples_leaf=8, rfc__max_features=sqrt, rfc__max_depth=None, score=0.899, total=   0.5s\n",
      "[CV] vect__ngram_range=(1, 2), tfidf__use_idf=False, rfc__n_estimators=270, rfc__min_samples_split=1, rfc__min_samples_leaf=8, rfc__max_features=None, rfc__max_depth=[5, 10, 15, 20, 25, 30, 35, 40, 45, 50, 55, 60, 65, 70, 75, 80, 85, 90, 95] \n",
      "[CV]  vect__ngram_range=(1, 2), tfidf__use_idf=False, rfc__n_estimators=270, rfc__min_samples_split=1, rfc__min_samples_leaf=8, rfc__max_features=None, rfc__max_depth=[5, 10, 15, 20, 25, 30, 35, 40, 45, 50, 55, 60, 65, 70, 75, 80, 85, 90, 95], score=nan, total=   0.2s\n",
      "[CV] vect__ngram_range=(1, 2), tfidf__use_idf=False, rfc__n_estimators=270, rfc__min_samples_split=1, rfc__min_samples_leaf=8, rfc__max_features=None, rfc__max_depth=[5, 10, 15, 20, 25, 30, 35, 40, 45, 50, 55, 60, 65, 70, 75, 80, 85, 90, 95] \n"
     ]
    },
    {
     "name": "stderr",
     "output_type": "stream",
     "text": [
      "C:\\Users\\audia\\AppData\\Roaming\\Python\\Python38\\site-packages\\sklearn\\model_selection\\_validation.py:548: FitFailedWarning: Estimator fit failed. The score on this train-test partition for these parameters will be set to nan. Details: \n",
      "Traceback (most recent call last):\n",
      "  File \"C:\\Users\\audia\\AppData\\Roaming\\Python\\Python38\\site-packages\\sklearn\\model_selection\\_validation.py\", line 531, in _fit_and_score\n",
      "    estimator.fit(X_train, y_train, **fit_params)\n",
      "  File \"C:\\Users\\audia\\AppData\\Roaming\\Python\\Python38\\site-packages\\sklearn\\pipeline.py\", line 335, in fit\n",
      "    self._final_estimator.fit(Xt, y, **fit_params_last_step)\n",
      "  File \"C:\\Users\\audia\\AppData\\Roaming\\Python\\Python38\\site-packages\\sklearn\\ensemble\\_forest.py\", line 386, in fit\n",
      "    trees = Parallel(n_jobs=self.n_jobs, verbose=self.verbose,\n",
      "  File \"C:\\Users\\audia\\AppData\\Roaming\\Python\\Python38\\site-packages\\joblib\\parallel.py\", line 1041, in __call__\n",
      "    if self.dispatch_one_batch(iterator):\n",
      "  File \"C:\\Users\\audia\\AppData\\Roaming\\Python\\Python38\\site-packages\\joblib\\parallel.py\", line 859, in dispatch_one_batch\n",
      "    self._dispatch(tasks)\n",
      "  File \"C:\\Users\\audia\\AppData\\Roaming\\Python\\Python38\\site-packages\\joblib\\parallel.py\", line 777, in _dispatch\n",
      "    job = self._backend.apply_async(batch, callback=cb)\n",
      "  File \"C:\\Users\\audia\\AppData\\Roaming\\Python\\Python38\\site-packages\\joblib\\_parallel_backends.py\", line 208, in apply_async\n",
      "    result = ImmediateResult(func)\n",
      "  File \"C:\\Users\\audia\\AppData\\Roaming\\Python\\Python38\\site-packages\\joblib\\_parallel_backends.py\", line 572, in __init__\n",
      "    self.results = batch()\n",
      "  File \"C:\\Users\\audia\\AppData\\Roaming\\Python\\Python38\\site-packages\\joblib\\parallel.py\", line 262, in __call__\n",
      "    return [func(*args, **kwargs)\n",
      "  File \"C:\\Users\\audia\\AppData\\Roaming\\Python\\Python38\\site-packages\\joblib\\parallel.py\", line 262, in <listcomp>\n",
      "    return [func(*args, **kwargs)\n",
      "  File \"C:\\Users\\audia\\AppData\\Roaming\\Python\\Python38\\site-packages\\sklearn\\ensemble\\_forest.py\", line 168, in _parallel_build_trees\n",
      "    tree.fit(X, y, sample_weight=curr_sample_weight, check_input=False)\n",
      "  File \"C:\\Users\\audia\\AppData\\Roaming\\Python\\Python38\\site-packages\\sklearn\\tree\\_classes.py\", line 890, in fit\n",
      "    super().fit(\n",
      "  File \"C:\\Users\\audia\\AppData\\Roaming\\Python\\Python38\\site-packages\\sklearn\\tree\\_classes.py\", line 228, in fit\n",
      "    raise ValueError(\"min_samples_split must be an integer \"\n",
      "ValueError: min_samples_split must be an integer greater than 1 or a float in (0.0, 1.0]; got the integer 1\n",
      "\n",
      "  warnings.warn(\"Estimator fit failed. The score on this train-test\"\n",
      "C:\\Users\\audia\\AppData\\Roaming\\Python\\Python38\\site-packages\\sklearn\\model_selection\\_validation.py:548: FitFailedWarning: Estimator fit failed. The score on this train-test partition for these parameters will be set to nan. Details: \n",
      "Traceback (most recent call last):\n",
      "  File \"C:\\Users\\audia\\AppData\\Roaming\\Python\\Python38\\site-packages\\sklearn\\model_selection\\_validation.py\", line 531, in _fit_and_score\n",
      "    estimator.fit(X_train, y_train, **fit_params)\n",
      "  File \"C:\\Users\\audia\\AppData\\Roaming\\Python\\Python38\\site-packages\\sklearn\\pipeline.py\", line 335, in fit\n",
      "    self._final_estimator.fit(Xt, y, **fit_params_last_step)\n",
      "  File \"C:\\Users\\audia\\AppData\\Roaming\\Python\\Python38\\site-packages\\sklearn\\ensemble\\_forest.py\", line 386, in fit\n",
      "    trees = Parallel(n_jobs=self.n_jobs, verbose=self.verbose,\n",
      "  File \"C:\\Users\\audia\\AppData\\Roaming\\Python\\Python38\\site-packages\\joblib\\parallel.py\", line 1041, in __call__\n",
      "    if self.dispatch_one_batch(iterator):\n",
      "  File \"C:\\Users\\audia\\AppData\\Roaming\\Python\\Python38\\site-packages\\joblib\\parallel.py\", line 859, in dispatch_one_batch\n",
      "    self._dispatch(tasks)\n",
      "  File \"C:\\Users\\audia\\AppData\\Roaming\\Python\\Python38\\site-packages\\joblib\\parallel.py\", line 777, in _dispatch\n",
      "    job = self._backend.apply_async(batch, callback=cb)\n",
      "  File \"C:\\Users\\audia\\AppData\\Roaming\\Python\\Python38\\site-packages\\joblib\\_parallel_backends.py\", line 208, in apply_async\n",
      "    result = ImmediateResult(func)\n",
      "  File \"C:\\Users\\audia\\AppData\\Roaming\\Python\\Python38\\site-packages\\joblib\\_parallel_backends.py\", line 572, in __init__\n",
      "    self.results = batch()\n",
      "  File \"C:\\Users\\audia\\AppData\\Roaming\\Python\\Python38\\site-packages\\joblib\\parallel.py\", line 262, in __call__\n",
      "    return [func(*args, **kwargs)\n",
      "  File \"C:\\Users\\audia\\AppData\\Roaming\\Python\\Python38\\site-packages\\joblib\\parallel.py\", line 262, in <listcomp>\n",
      "    return [func(*args, **kwargs)\n",
      "  File \"C:\\Users\\audia\\AppData\\Roaming\\Python\\Python38\\site-packages\\sklearn\\ensemble\\_forest.py\", line 168, in _parallel_build_trees\n",
      "    tree.fit(X, y, sample_weight=curr_sample_weight, check_input=False)\n",
      "  File \"C:\\Users\\audia\\AppData\\Roaming\\Python\\Python38\\site-packages\\sklearn\\tree\\_classes.py\", line 890, in fit\n",
      "    super().fit(\n",
      "  File \"C:\\Users\\audia\\AppData\\Roaming\\Python\\Python38\\site-packages\\sklearn\\tree\\_classes.py\", line 228, in fit\n",
      "    raise ValueError(\"min_samples_split must be an integer \"\n",
      "ValueError: min_samples_split must be an integer greater than 1 or a float in (0.0, 1.0]; got the integer 1\n",
      "\n",
      "  warnings.warn(\"Estimator fit failed. The score on this train-test\"\n"
     ]
    },
    {
     "name": "stdout",
     "output_type": "stream",
     "text": [
      "[CV]  vect__ngram_range=(1, 2), tfidf__use_idf=False, rfc__n_estimators=270, rfc__min_samples_split=1, rfc__min_samples_leaf=8, rfc__max_features=None, rfc__max_depth=[5, 10, 15, 20, 25, 30, 35, 40, 45, 50, 55, 60, 65, 70, 75, 80, 85, 90, 95], score=nan, total=   0.2s\n",
      "[CV] vect__ngram_range=(1, 2), tfidf__use_idf=False, rfc__n_estimators=270, rfc__min_samples_split=1, rfc__min_samples_leaf=8, rfc__max_features=None, rfc__max_depth=[5, 10, 15, 20, 25, 30, 35, 40, 45, 50, 55, 60, 65, 70, 75, 80, 85, 90, 95] \n",
      "[CV]  vect__ngram_range=(1, 2), tfidf__use_idf=False, rfc__n_estimators=270, rfc__min_samples_split=1, rfc__min_samples_leaf=8, rfc__max_features=None, rfc__max_depth=[5, 10, 15, 20, 25, 30, 35, 40, 45, 50, 55, 60, 65, 70, 75, 80, 85, 90, 95], score=nan, total=   0.2s\n",
      "[CV] vect__ngram_range=(1, 2), tfidf__use_idf=False, rfc__n_estimators=270, rfc__min_samples_split=1, rfc__min_samples_leaf=8, rfc__max_features=None, rfc__max_depth=[5, 10, 15, 20, 25, 30, 35, 40, 45, 50, 55, 60, 65, 70, 75, 80, 85, 90, 95] \n"
     ]
    },
    {
     "name": "stderr",
     "output_type": "stream",
     "text": [
      "C:\\Users\\audia\\AppData\\Roaming\\Python\\Python38\\site-packages\\sklearn\\model_selection\\_validation.py:548: FitFailedWarning: Estimator fit failed. The score on this train-test partition for these parameters will be set to nan. Details: \n",
      "Traceback (most recent call last):\n",
      "  File \"C:\\Users\\audia\\AppData\\Roaming\\Python\\Python38\\site-packages\\sklearn\\model_selection\\_validation.py\", line 531, in _fit_and_score\n",
      "    estimator.fit(X_train, y_train, **fit_params)\n",
      "  File \"C:\\Users\\audia\\AppData\\Roaming\\Python\\Python38\\site-packages\\sklearn\\pipeline.py\", line 335, in fit\n",
      "    self._final_estimator.fit(Xt, y, **fit_params_last_step)\n",
      "  File \"C:\\Users\\audia\\AppData\\Roaming\\Python\\Python38\\site-packages\\sklearn\\ensemble\\_forest.py\", line 386, in fit\n",
      "    trees = Parallel(n_jobs=self.n_jobs, verbose=self.verbose,\n",
      "  File \"C:\\Users\\audia\\AppData\\Roaming\\Python\\Python38\\site-packages\\joblib\\parallel.py\", line 1041, in __call__\n",
      "    if self.dispatch_one_batch(iterator):\n",
      "  File \"C:\\Users\\audia\\AppData\\Roaming\\Python\\Python38\\site-packages\\joblib\\parallel.py\", line 859, in dispatch_one_batch\n",
      "    self._dispatch(tasks)\n",
      "  File \"C:\\Users\\audia\\AppData\\Roaming\\Python\\Python38\\site-packages\\joblib\\parallel.py\", line 777, in _dispatch\n",
      "    job = self._backend.apply_async(batch, callback=cb)\n",
      "  File \"C:\\Users\\audia\\AppData\\Roaming\\Python\\Python38\\site-packages\\joblib\\_parallel_backends.py\", line 208, in apply_async\n",
      "    result = ImmediateResult(func)\n",
      "  File \"C:\\Users\\audia\\AppData\\Roaming\\Python\\Python38\\site-packages\\joblib\\_parallel_backends.py\", line 572, in __init__\n",
      "    self.results = batch()\n",
      "  File \"C:\\Users\\audia\\AppData\\Roaming\\Python\\Python38\\site-packages\\joblib\\parallel.py\", line 262, in __call__\n",
      "    return [func(*args, **kwargs)\n",
      "  File \"C:\\Users\\audia\\AppData\\Roaming\\Python\\Python38\\site-packages\\joblib\\parallel.py\", line 262, in <listcomp>\n",
      "    return [func(*args, **kwargs)\n",
      "  File \"C:\\Users\\audia\\AppData\\Roaming\\Python\\Python38\\site-packages\\sklearn\\ensemble\\_forest.py\", line 168, in _parallel_build_trees\n",
      "    tree.fit(X, y, sample_weight=curr_sample_weight, check_input=False)\n",
      "  File \"C:\\Users\\audia\\AppData\\Roaming\\Python\\Python38\\site-packages\\sklearn\\tree\\_classes.py\", line 890, in fit\n",
      "    super().fit(\n",
      "  File \"C:\\Users\\audia\\AppData\\Roaming\\Python\\Python38\\site-packages\\sklearn\\tree\\_classes.py\", line 228, in fit\n",
      "    raise ValueError(\"min_samples_split must be an integer \"\n",
      "ValueError: min_samples_split must be an integer greater than 1 or a float in (0.0, 1.0]; got the integer 1\n",
      "\n",
      "  warnings.warn(\"Estimator fit failed. The score on this train-test\"\n",
      "C:\\Users\\audia\\AppData\\Roaming\\Python\\Python38\\site-packages\\sklearn\\model_selection\\_validation.py:548: FitFailedWarning: Estimator fit failed. The score on this train-test partition for these parameters will be set to nan. Details: \n",
      "Traceback (most recent call last):\n",
      "  File \"C:\\Users\\audia\\AppData\\Roaming\\Python\\Python38\\site-packages\\sklearn\\model_selection\\_validation.py\", line 531, in _fit_and_score\n",
      "    estimator.fit(X_train, y_train, **fit_params)\n",
      "  File \"C:\\Users\\audia\\AppData\\Roaming\\Python\\Python38\\site-packages\\sklearn\\pipeline.py\", line 335, in fit\n",
      "    self._final_estimator.fit(Xt, y, **fit_params_last_step)\n",
      "  File \"C:\\Users\\audia\\AppData\\Roaming\\Python\\Python38\\site-packages\\sklearn\\ensemble\\_forest.py\", line 386, in fit\n",
      "    trees = Parallel(n_jobs=self.n_jobs, verbose=self.verbose,\n",
      "  File \"C:\\Users\\audia\\AppData\\Roaming\\Python\\Python38\\site-packages\\joblib\\parallel.py\", line 1041, in __call__\n",
      "    if self.dispatch_one_batch(iterator):\n",
      "  File \"C:\\Users\\audia\\AppData\\Roaming\\Python\\Python38\\site-packages\\joblib\\parallel.py\", line 859, in dispatch_one_batch\n",
      "    self._dispatch(tasks)\n",
      "  File \"C:\\Users\\audia\\AppData\\Roaming\\Python\\Python38\\site-packages\\joblib\\parallel.py\", line 777, in _dispatch\n",
      "    job = self._backend.apply_async(batch, callback=cb)\n",
      "  File \"C:\\Users\\audia\\AppData\\Roaming\\Python\\Python38\\site-packages\\joblib\\_parallel_backends.py\", line 208, in apply_async\n",
      "    result = ImmediateResult(func)\n",
      "  File \"C:\\Users\\audia\\AppData\\Roaming\\Python\\Python38\\site-packages\\joblib\\_parallel_backends.py\", line 572, in __init__\n",
      "    self.results = batch()\n",
      "  File \"C:\\Users\\audia\\AppData\\Roaming\\Python\\Python38\\site-packages\\joblib\\parallel.py\", line 262, in __call__\n",
      "    return [func(*args, **kwargs)\n",
      "  File \"C:\\Users\\audia\\AppData\\Roaming\\Python\\Python38\\site-packages\\joblib\\parallel.py\", line 262, in <listcomp>\n",
      "    return [func(*args, **kwargs)\n",
      "  File \"C:\\Users\\audia\\AppData\\Roaming\\Python\\Python38\\site-packages\\sklearn\\ensemble\\_forest.py\", line 168, in _parallel_build_trees\n",
      "    tree.fit(X, y, sample_weight=curr_sample_weight, check_input=False)\n",
      "  File \"C:\\Users\\audia\\AppData\\Roaming\\Python\\Python38\\site-packages\\sklearn\\tree\\_classes.py\", line 890, in fit\n",
      "    super().fit(\n",
      "  File \"C:\\Users\\audia\\AppData\\Roaming\\Python\\Python38\\site-packages\\sklearn\\tree\\_classes.py\", line 228, in fit\n",
      "    raise ValueError(\"min_samples_split must be an integer \"\n",
      "ValueError: min_samples_split must be an integer greater than 1 or a float in (0.0, 1.0]; got the integer 1\n",
      "\n",
      "  warnings.warn(\"Estimator fit failed. The score on this train-test\"\n"
     ]
    },
    {
     "name": "stdout",
     "output_type": "stream",
     "text": [
      "[CV]  vect__ngram_range=(1, 2), tfidf__use_idf=False, rfc__n_estimators=270, rfc__min_samples_split=1, rfc__min_samples_leaf=8, rfc__max_features=None, rfc__max_depth=[5, 10, 15, 20, 25, 30, 35, 40, 45, 50, 55, 60, 65, 70, 75, 80, 85, 90, 95], score=nan, total=   0.1s\n",
      "[CV] vect__ngram_range=(1, 2), tfidf__use_idf=False, rfc__n_estimators=270, rfc__min_samples_split=1, rfc__min_samples_leaf=8, rfc__max_features=None, rfc__max_depth=[5, 10, 15, 20, 25, 30, 35, 40, 45, 50, 55, 60, 65, 70, 75, 80, 85, 90, 95] \n",
      "[CV]  vect__ngram_range=(1, 2), tfidf__use_idf=False, rfc__n_estimators=270, rfc__min_samples_split=1, rfc__min_samples_leaf=8, rfc__max_features=None, rfc__max_depth=[5, 10, 15, 20, 25, 30, 35, 40, 45, 50, 55, 60, 65, 70, 75, 80, 85, 90, 95], score=nan, total=   0.2s\n",
      "[CV] vect__ngram_range=(1, 1), tfidf__use_idf=True, rfc__n_estimators=280, rfc__min_samples_split=1, rfc__min_samples_leaf=9, rfc__max_features=log2, rfc__max_depth=None \n"
     ]
    },
    {
     "name": "stderr",
     "output_type": "stream",
     "text": [
      "C:\\Users\\audia\\AppData\\Roaming\\Python\\Python38\\site-packages\\sklearn\\model_selection\\_validation.py:548: FitFailedWarning: Estimator fit failed. The score on this train-test partition for these parameters will be set to nan. Details: \n",
      "Traceback (most recent call last):\n",
      "  File \"C:\\Users\\audia\\AppData\\Roaming\\Python\\Python38\\site-packages\\sklearn\\model_selection\\_validation.py\", line 531, in _fit_and_score\n",
      "    estimator.fit(X_train, y_train, **fit_params)\n",
      "  File \"C:\\Users\\audia\\AppData\\Roaming\\Python\\Python38\\site-packages\\sklearn\\pipeline.py\", line 335, in fit\n",
      "    self._final_estimator.fit(Xt, y, **fit_params_last_step)\n",
      "  File \"C:\\Users\\audia\\AppData\\Roaming\\Python\\Python38\\site-packages\\sklearn\\ensemble\\_forest.py\", line 386, in fit\n",
      "    trees = Parallel(n_jobs=self.n_jobs, verbose=self.verbose,\n",
      "  File \"C:\\Users\\audia\\AppData\\Roaming\\Python\\Python38\\site-packages\\joblib\\parallel.py\", line 1041, in __call__\n",
      "    if self.dispatch_one_batch(iterator):\n",
      "  File \"C:\\Users\\audia\\AppData\\Roaming\\Python\\Python38\\site-packages\\joblib\\parallel.py\", line 859, in dispatch_one_batch\n",
      "    self._dispatch(tasks)\n",
      "  File \"C:\\Users\\audia\\AppData\\Roaming\\Python\\Python38\\site-packages\\joblib\\parallel.py\", line 777, in _dispatch\n",
      "    job = self._backend.apply_async(batch, callback=cb)\n",
      "  File \"C:\\Users\\audia\\AppData\\Roaming\\Python\\Python38\\site-packages\\joblib\\_parallel_backends.py\", line 208, in apply_async\n",
      "    result = ImmediateResult(func)\n",
      "  File \"C:\\Users\\audia\\AppData\\Roaming\\Python\\Python38\\site-packages\\joblib\\_parallel_backends.py\", line 572, in __init__\n",
      "    self.results = batch()\n",
      "  File \"C:\\Users\\audia\\AppData\\Roaming\\Python\\Python38\\site-packages\\joblib\\parallel.py\", line 262, in __call__\n",
      "    return [func(*args, **kwargs)\n",
      "  File \"C:\\Users\\audia\\AppData\\Roaming\\Python\\Python38\\site-packages\\joblib\\parallel.py\", line 262, in <listcomp>\n",
      "    return [func(*args, **kwargs)\n",
      "  File \"C:\\Users\\audia\\AppData\\Roaming\\Python\\Python38\\site-packages\\sklearn\\ensemble\\_forest.py\", line 168, in _parallel_build_trees\n",
      "    tree.fit(X, y, sample_weight=curr_sample_weight, check_input=False)\n",
      "  File \"C:\\Users\\audia\\AppData\\Roaming\\Python\\Python38\\site-packages\\sklearn\\tree\\_classes.py\", line 890, in fit\n",
      "    super().fit(\n",
      "  File \"C:\\Users\\audia\\AppData\\Roaming\\Python\\Python38\\site-packages\\sklearn\\tree\\_classes.py\", line 228, in fit\n",
      "    raise ValueError(\"min_samples_split must be an integer \"\n",
      "ValueError: min_samples_split must be an integer greater than 1 or a float in (0.0, 1.0]; got the integer 1\n",
      "\n",
      "  warnings.warn(\"Estimator fit failed. The score on this train-test\"\n",
      "C:\\Users\\audia\\AppData\\Roaming\\Python\\Python38\\site-packages\\sklearn\\model_selection\\_validation.py:548: FitFailedWarning: Estimator fit failed. The score on this train-test partition for these parameters will be set to nan. Details: \n",
      "Traceback (most recent call last):\n",
      "  File \"C:\\Users\\audia\\AppData\\Roaming\\Python\\Python38\\site-packages\\sklearn\\model_selection\\_validation.py\", line 531, in _fit_and_score\n",
      "    estimator.fit(X_train, y_train, **fit_params)\n",
      "  File \"C:\\Users\\audia\\AppData\\Roaming\\Python\\Python38\\site-packages\\sklearn\\pipeline.py\", line 335, in fit\n",
      "    self._final_estimator.fit(Xt, y, **fit_params_last_step)\n",
      "  File \"C:\\Users\\audia\\AppData\\Roaming\\Python\\Python38\\site-packages\\sklearn\\ensemble\\_forest.py\", line 386, in fit\n",
      "    trees = Parallel(n_jobs=self.n_jobs, verbose=self.verbose,\n",
      "  File \"C:\\Users\\audia\\AppData\\Roaming\\Python\\Python38\\site-packages\\joblib\\parallel.py\", line 1041, in __call__\n",
      "    if self.dispatch_one_batch(iterator):\n",
      "  File \"C:\\Users\\audia\\AppData\\Roaming\\Python\\Python38\\site-packages\\joblib\\parallel.py\", line 859, in dispatch_one_batch\n",
      "    self._dispatch(tasks)\n",
      "  File \"C:\\Users\\audia\\AppData\\Roaming\\Python\\Python38\\site-packages\\joblib\\parallel.py\", line 777, in _dispatch\n",
      "    job = self._backend.apply_async(batch, callback=cb)\n",
      "  File \"C:\\Users\\audia\\AppData\\Roaming\\Python\\Python38\\site-packages\\joblib\\_parallel_backends.py\", line 208, in apply_async\n",
      "    result = ImmediateResult(func)\n",
      "  File \"C:\\Users\\audia\\AppData\\Roaming\\Python\\Python38\\site-packages\\joblib\\_parallel_backends.py\", line 572, in __init__\n",
      "    self.results = batch()\n",
      "  File \"C:\\Users\\audia\\AppData\\Roaming\\Python\\Python38\\site-packages\\joblib\\parallel.py\", line 262, in __call__\n",
      "    return [func(*args, **kwargs)\n",
      "  File \"C:\\Users\\audia\\AppData\\Roaming\\Python\\Python38\\site-packages\\joblib\\parallel.py\", line 262, in <listcomp>\n",
      "    return [func(*args, **kwargs)\n",
      "  File \"C:\\Users\\audia\\AppData\\Roaming\\Python\\Python38\\site-packages\\sklearn\\ensemble\\_forest.py\", line 168, in _parallel_build_trees\n",
      "    tree.fit(X, y, sample_weight=curr_sample_weight, check_input=False)\n",
      "  File \"C:\\Users\\audia\\AppData\\Roaming\\Python\\Python38\\site-packages\\sklearn\\tree\\_classes.py\", line 890, in fit\n",
      "    super().fit(\n",
      "  File \"C:\\Users\\audia\\AppData\\Roaming\\Python\\Python38\\site-packages\\sklearn\\tree\\_classes.py\", line 228, in fit\n",
      "    raise ValueError(\"min_samples_split must be an integer \"\n",
      "ValueError: min_samples_split must be an integer greater than 1 or a float in (0.0, 1.0]; got the integer 1\n",
      "\n",
      "  warnings.warn(\"Estimator fit failed. The score on this train-test\"\n"
     ]
    },
    {
     "name": "stdout",
     "output_type": "stream",
     "text": [
      "[CV]  vect__ngram_range=(1, 1), tfidf__use_idf=True, rfc__n_estimators=280, rfc__min_samples_split=1, rfc__min_samples_leaf=9, rfc__max_features=log2, rfc__max_depth=None, score=nan, total=   0.1s\n",
      "[CV] vect__ngram_range=(1, 1), tfidf__use_idf=True, rfc__n_estimators=280, rfc__min_samples_split=1, rfc__min_samples_leaf=9, rfc__max_features=log2, rfc__max_depth=None \n",
      "[CV]  vect__ngram_range=(1, 1), tfidf__use_idf=True, rfc__n_estimators=280, rfc__min_samples_split=1, rfc__min_samples_leaf=9, rfc__max_features=log2, rfc__max_depth=None, score=nan, total=   0.1s\n",
      "[CV] vect__ngram_range=(1, 1), tfidf__use_idf=True, rfc__n_estimators=280, rfc__min_samples_split=1, rfc__min_samples_leaf=9, rfc__max_features=log2, rfc__max_depth=None \n"
     ]
    },
    {
     "name": "stderr",
     "output_type": "stream",
     "text": [
      "C:\\Users\\audia\\AppData\\Roaming\\Python\\Python38\\site-packages\\sklearn\\model_selection\\_validation.py:548: FitFailedWarning: Estimator fit failed. The score on this train-test partition for these parameters will be set to nan. Details: \n",
      "Traceback (most recent call last):\n",
      "  File \"C:\\Users\\audia\\AppData\\Roaming\\Python\\Python38\\site-packages\\sklearn\\model_selection\\_validation.py\", line 531, in _fit_and_score\n",
      "    estimator.fit(X_train, y_train, **fit_params)\n",
      "  File \"C:\\Users\\audia\\AppData\\Roaming\\Python\\Python38\\site-packages\\sklearn\\pipeline.py\", line 335, in fit\n",
      "    self._final_estimator.fit(Xt, y, **fit_params_last_step)\n",
      "  File \"C:\\Users\\audia\\AppData\\Roaming\\Python\\Python38\\site-packages\\sklearn\\ensemble\\_forest.py\", line 386, in fit\n",
      "    trees = Parallel(n_jobs=self.n_jobs, verbose=self.verbose,\n",
      "  File \"C:\\Users\\audia\\AppData\\Roaming\\Python\\Python38\\site-packages\\joblib\\parallel.py\", line 1041, in __call__\n",
      "    if self.dispatch_one_batch(iterator):\n",
      "  File \"C:\\Users\\audia\\AppData\\Roaming\\Python\\Python38\\site-packages\\joblib\\parallel.py\", line 859, in dispatch_one_batch\n",
      "    self._dispatch(tasks)\n",
      "  File \"C:\\Users\\audia\\AppData\\Roaming\\Python\\Python38\\site-packages\\joblib\\parallel.py\", line 777, in _dispatch\n",
      "    job = self._backend.apply_async(batch, callback=cb)\n",
      "  File \"C:\\Users\\audia\\AppData\\Roaming\\Python\\Python38\\site-packages\\joblib\\_parallel_backends.py\", line 208, in apply_async\n",
      "    result = ImmediateResult(func)\n",
      "  File \"C:\\Users\\audia\\AppData\\Roaming\\Python\\Python38\\site-packages\\joblib\\_parallel_backends.py\", line 572, in __init__\n",
      "    self.results = batch()\n",
      "  File \"C:\\Users\\audia\\AppData\\Roaming\\Python\\Python38\\site-packages\\joblib\\parallel.py\", line 262, in __call__\n",
      "    return [func(*args, **kwargs)\n",
      "  File \"C:\\Users\\audia\\AppData\\Roaming\\Python\\Python38\\site-packages\\joblib\\parallel.py\", line 262, in <listcomp>\n",
      "    return [func(*args, **kwargs)\n",
      "  File \"C:\\Users\\audia\\AppData\\Roaming\\Python\\Python38\\site-packages\\sklearn\\ensemble\\_forest.py\", line 168, in _parallel_build_trees\n",
      "    tree.fit(X, y, sample_weight=curr_sample_weight, check_input=False)\n",
      "  File \"C:\\Users\\audia\\AppData\\Roaming\\Python\\Python38\\site-packages\\sklearn\\tree\\_classes.py\", line 890, in fit\n",
      "    super().fit(\n",
      "  File \"C:\\Users\\audia\\AppData\\Roaming\\Python\\Python38\\site-packages\\sklearn\\tree\\_classes.py\", line 228, in fit\n",
      "    raise ValueError(\"min_samples_split must be an integer \"\n",
      "ValueError: min_samples_split must be an integer greater than 1 or a float in (0.0, 1.0]; got the integer 1\n",
      "\n",
      "  warnings.warn(\"Estimator fit failed. The score on this train-test\"\n",
      "C:\\Users\\audia\\AppData\\Roaming\\Python\\Python38\\site-packages\\sklearn\\model_selection\\_validation.py:548: FitFailedWarning: Estimator fit failed. The score on this train-test partition for these parameters will be set to nan. Details: \n",
      "Traceback (most recent call last):\n",
      "  File \"C:\\Users\\audia\\AppData\\Roaming\\Python\\Python38\\site-packages\\sklearn\\model_selection\\_validation.py\", line 531, in _fit_and_score\n",
      "    estimator.fit(X_train, y_train, **fit_params)\n",
      "  File \"C:\\Users\\audia\\AppData\\Roaming\\Python\\Python38\\site-packages\\sklearn\\pipeline.py\", line 335, in fit\n",
      "    self._final_estimator.fit(Xt, y, **fit_params_last_step)\n",
      "  File \"C:\\Users\\audia\\AppData\\Roaming\\Python\\Python38\\site-packages\\sklearn\\ensemble\\_forest.py\", line 386, in fit\n",
      "    trees = Parallel(n_jobs=self.n_jobs, verbose=self.verbose,\n",
      "  File \"C:\\Users\\audia\\AppData\\Roaming\\Python\\Python38\\site-packages\\joblib\\parallel.py\", line 1041, in __call__\n",
      "    if self.dispatch_one_batch(iterator):\n",
      "  File \"C:\\Users\\audia\\AppData\\Roaming\\Python\\Python38\\site-packages\\joblib\\parallel.py\", line 859, in dispatch_one_batch\n",
      "    self._dispatch(tasks)\n",
      "  File \"C:\\Users\\audia\\AppData\\Roaming\\Python\\Python38\\site-packages\\joblib\\parallel.py\", line 777, in _dispatch\n",
      "    job = self._backend.apply_async(batch, callback=cb)\n",
      "  File \"C:\\Users\\audia\\AppData\\Roaming\\Python\\Python38\\site-packages\\joblib\\_parallel_backends.py\", line 208, in apply_async\n",
      "    result = ImmediateResult(func)\n",
      "  File \"C:\\Users\\audia\\AppData\\Roaming\\Python\\Python38\\site-packages\\joblib\\_parallel_backends.py\", line 572, in __init__\n",
      "    self.results = batch()\n",
      "  File \"C:\\Users\\audia\\AppData\\Roaming\\Python\\Python38\\site-packages\\joblib\\parallel.py\", line 262, in __call__\n",
      "    return [func(*args, **kwargs)\n",
      "  File \"C:\\Users\\audia\\AppData\\Roaming\\Python\\Python38\\site-packages\\joblib\\parallel.py\", line 262, in <listcomp>\n",
      "    return [func(*args, **kwargs)\n",
      "  File \"C:\\Users\\audia\\AppData\\Roaming\\Python\\Python38\\site-packages\\sklearn\\ensemble\\_forest.py\", line 168, in _parallel_build_trees\n",
      "    tree.fit(X, y, sample_weight=curr_sample_weight, check_input=False)\n",
      "  File \"C:\\Users\\audia\\AppData\\Roaming\\Python\\Python38\\site-packages\\sklearn\\tree\\_classes.py\", line 890, in fit\n",
      "    super().fit(\n",
      "  File \"C:\\Users\\audia\\AppData\\Roaming\\Python\\Python38\\site-packages\\sklearn\\tree\\_classes.py\", line 228, in fit\n",
      "    raise ValueError(\"min_samples_split must be an integer \"\n",
      "ValueError: min_samples_split must be an integer greater than 1 or a float in (0.0, 1.0]; got the integer 1\n",
      "\n",
      "  warnings.warn(\"Estimator fit failed. The score on this train-test\"\n"
     ]
    },
    {
     "name": "stdout",
     "output_type": "stream",
     "text": [
      "[CV]  vect__ngram_range=(1, 1), tfidf__use_idf=True, rfc__n_estimators=280, rfc__min_samples_split=1, rfc__min_samples_leaf=9, rfc__max_features=log2, rfc__max_depth=None, score=nan, total=   0.1s\n",
      "[CV] vect__ngram_range=(1, 1), tfidf__use_idf=True, rfc__n_estimators=280, rfc__min_samples_split=1, rfc__min_samples_leaf=9, rfc__max_features=log2, rfc__max_depth=None \n",
      "[CV]  vect__ngram_range=(1, 1), tfidf__use_idf=True, rfc__n_estimators=280, rfc__min_samples_split=1, rfc__min_samples_leaf=9, rfc__max_features=log2, rfc__max_depth=None, score=nan, total=   0.1s\n",
      "[CV] vect__ngram_range=(1, 1), tfidf__use_idf=True, rfc__n_estimators=280, rfc__min_samples_split=1, rfc__min_samples_leaf=9, rfc__max_features=log2, rfc__max_depth=None \n"
     ]
    },
    {
     "name": "stderr",
     "output_type": "stream",
     "text": [
      "C:\\Users\\audia\\AppData\\Roaming\\Python\\Python38\\site-packages\\sklearn\\model_selection\\_validation.py:548: FitFailedWarning: Estimator fit failed. The score on this train-test partition for these parameters will be set to nan. Details: \n",
      "Traceback (most recent call last):\n",
      "  File \"C:\\Users\\audia\\AppData\\Roaming\\Python\\Python38\\site-packages\\sklearn\\model_selection\\_validation.py\", line 531, in _fit_and_score\n",
      "    estimator.fit(X_train, y_train, **fit_params)\n",
      "  File \"C:\\Users\\audia\\AppData\\Roaming\\Python\\Python38\\site-packages\\sklearn\\pipeline.py\", line 335, in fit\n",
      "    self._final_estimator.fit(Xt, y, **fit_params_last_step)\n",
      "  File \"C:\\Users\\audia\\AppData\\Roaming\\Python\\Python38\\site-packages\\sklearn\\ensemble\\_forest.py\", line 386, in fit\n",
      "    trees = Parallel(n_jobs=self.n_jobs, verbose=self.verbose,\n",
      "  File \"C:\\Users\\audia\\AppData\\Roaming\\Python\\Python38\\site-packages\\joblib\\parallel.py\", line 1041, in __call__\n",
      "    if self.dispatch_one_batch(iterator):\n",
      "  File \"C:\\Users\\audia\\AppData\\Roaming\\Python\\Python38\\site-packages\\joblib\\parallel.py\", line 859, in dispatch_one_batch\n",
      "    self._dispatch(tasks)\n",
      "  File \"C:\\Users\\audia\\AppData\\Roaming\\Python\\Python38\\site-packages\\joblib\\parallel.py\", line 777, in _dispatch\n",
      "    job = self._backend.apply_async(batch, callback=cb)\n",
      "  File \"C:\\Users\\audia\\AppData\\Roaming\\Python\\Python38\\site-packages\\joblib\\_parallel_backends.py\", line 208, in apply_async\n",
      "    result = ImmediateResult(func)\n",
      "  File \"C:\\Users\\audia\\AppData\\Roaming\\Python\\Python38\\site-packages\\joblib\\_parallel_backends.py\", line 572, in __init__\n",
      "    self.results = batch()\n",
      "  File \"C:\\Users\\audia\\AppData\\Roaming\\Python\\Python38\\site-packages\\joblib\\parallel.py\", line 262, in __call__\n",
      "    return [func(*args, **kwargs)\n",
      "  File \"C:\\Users\\audia\\AppData\\Roaming\\Python\\Python38\\site-packages\\joblib\\parallel.py\", line 262, in <listcomp>\n",
      "    return [func(*args, **kwargs)\n",
      "  File \"C:\\Users\\audia\\AppData\\Roaming\\Python\\Python38\\site-packages\\sklearn\\ensemble\\_forest.py\", line 168, in _parallel_build_trees\n",
      "    tree.fit(X, y, sample_weight=curr_sample_weight, check_input=False)\n",
      "  File \"C:\\Users\\audia\\AppData\\Roaming\\Python\\Python38\\site-packages\\sklearn\\tree\\_classes.py\", line 890, in fit\n",
      "    super().fit(\n",
      "  File \"C:\\Users\\audia\\AppData\\Roaming\\Python\\Python38\\site-packages\\sklearn\\tree\\_classes.py\", line 228, in fit\n",
      "    raise ValueError(\"min_samples_split must be an integer \"\n",
      "ValueError: min_samples_split must be an integer greater than 1 or a float in (0.0, 1.0]; got the integer 1\n",
      "\n",
      "  warnings.warn(\"Estimator fit failed. The score on this train-test\"\n",
      "C:\\Users\\audia\\AppData\\Roaming\\Python\\Python38\\site-packages\\sklearn\\model_selection\\_validation.py:548: FitFailedWarning: Estimator fit failed. The score on this train-test partition for these parameters will be set to nan. Details: \n",
      "Traceback (most recent call last):\n",
      "  File \"C:\\Users\\audia\\AppData\\Roaming\\Python\\Python38\\site-packages\\sklearn\\model_selection\\_validation.py\", line 531, in _fit_and_score\n",
      "    estimator.fit(X_train, y_train, **fit_params)\n",
      "  File \"C:\\Users\\audia\\AppData\\Roaming\\Python\\Python38\\site-packages\\sklearn\\pipeline.py\", line 335, in fit\n",
      "    self._final_estimator.fit(Xt, y, **fit_params_last_step)\n",
      "  File \"C:\\Users\\audia\\AppData\\Roaming\\Python\\Python38\\site-packages\\sklearn\\ensemble\\_forest.py\", line 386, in fit\n",
      "    trees = Parallel(n_jobs=self.n_jobs, verbose=self.verbose,\n",
      "  File \"C:\\Users\\audia\\AppData\\Roaming\\Python\\Python38\\site-packages\\joblib\\parallel.py\", line 1041, in __call__\n",
      "    if self.dispatch_one_batch(iterator):\n",
      "  File \"C:\\Users\\audia\\AppData\\Roaming\\Python\\Python38\\site-packages\\joblib\\parallel.py\", line 859, in dispatch_one_batch\n",
      "    self._dispatch(tasks)\n",
      "  File \"C:\\Users\\audia\\AppData\\Roaming\\Python\\Python38\\site-packages\\joblib\\parallel.py\", line 777, in _dispatch\n",
      "    job = self._backend.apply_async(batch, callback=cb)\n",
      "  File \"C:\\Users\\audia\\AppData\\Roaming\\Python\\Python38\\site-packages\\joblib\\_parallel_backends.py\", line 208, in apply_async\n",
      "    result = ImmediateResult(func)\n",
      "  File \"C:\\Users\\audia\\AppData\\Roaming\\Python\\Python38\\site-packages\\joblib\\_parallel_backends.py\", line 572, in __init__\n",
      "    self.results = batch()\n",
      "  File \"C:\\Users\\audia\\AppData\\Roaming\\Python\\Python38\\site-packages\\joblib\\parallel.py\", line 262, in __call__\n",
      "    return [func(*args, **kwargs)\n",
      "  File \"C:\\Users\\audia\\AppData\\Roaming\\Python\\Python38\\site-packages\\joblib\\parallel.py\", line 262, in <listcomp>\n",
      "    return [func(*args, **kwargs)\n",
      "  File \"C:\\Users\\audia\\AppData\\Roaming\\Python\\Python38\\site-packages\\sklearn\\ensemble\\_forest.py\", line 168, in _parallel_build_trees\n",
      "    tree.fit(X, y, sample_weight=curr_sample_weight, check_input=False)\n",
      "  File \"C:\\Users\\audia\\AppData\\Roaming\\Python\\Python38\\site-packages\\sklearn\\tree\\_classes.py\", line 890, in fit\n",
      "    super().fit(\n",
      "  File \"C:\\Users\\audia\\AppData\\Roaming\\Python\\Python38\\site-packages\\sklearn\\tree\\_classes.py\", line 228, in fit\n",
      "    raise ValueError(\"min_samples_split must be an integer \"\n",
      "ValueError: min_samples_split must be an integer greater than 1 or a float in (0.0, 1.0]; got the integer 1\n",
      "\n",
      "  warnings.warn(\"Estimator fit failed. The score on this train-test\"\n"
     ]
    },
    {
     "name": "stdout",
     "output_type": "stream",
     "text": [
      "[CV]  vect__ngram_range=(1, 1), tfidf__use_idf=True, rfc__n_estimators=280, rfc__min_samples_split=1, rfc__min_samples_leaf=9, rfc__max_features=log2, rfc__max_depth=None, score=nan, total=   0.1s\n",
      "[CV] vect__ngram_range=(1, 1), tfidf__use_idf=False, rfc__n_estimators=60, rfc__min_samples_split=8, rfc__min_samples_leaf=8, rfc__max_features=sqrt, rfc__max_depth=None \n",
      "[CV]  vect__ngram_range=(1, 1), tfidf__use_idf=False, rfc__n_estimators=60, rfc__min_samples_split=8, rfc__min_samples_leaf=8, rfc__max_features=sqrt, rfc__max_depth=None, score=0.913, total=   0.1s\n",
      "[CV] vect__ngram_range=(1, 1), tfidf__use_idf=False, rfc__n_estimators=60, rfc__min_samples_split=8, rfc__min_samples_leaf=8, rfc__max_features=sqrt, rfc__max_depth=None \n",
      "[CV]  vect__ngram_range=(1, 1), tfidf__use_idf=False, rfc__n_estimators=60, rfc__min_samples_split=8, rfc__min_samples_leaf=8, rfc__max_features=sqrt, rfc__max_depth=None, score=0.904, total=   0.1s\n",
      "[CV] vect__ngram_range=(1, 1), tfidf__use_idf=False, rfc__n_estimators=60, rfc__min_samples_split=8, rfc__min_samples_leaf=8, rfc__max_features=sqrt, rfc__max_depth=None \n",
      "[CV]  vect__ngram_range=(1, 1), tfidf__use_idf=False, rfc__n_estimators=60, rfc__min_samples_split=8, rfc__min_samples_leaf=8, rfc__max_features=sqrt, rfc__max_depth=None, score=0.913, total=   0.1s\n",
      "[CV] vect__ngram_range=(1, 1), tfidf__use_idf=False, rfc__n_estimators=60, rfc__min_samples_split=8, rfc__min_samples_leaf=8, rfc__max_features=sqrt, rfc__max_depth=None \n",
      "[CV]  vect__ngram_range=(1, 1), tfidf__use_idf=False, rfc__n_estimators=60, rfc__min_samples_split=8, rfc__min_samples_leaf=8, rfc__max_features=sqrt, rfc__max_depth=None, score=0.861, total=   0.1s\n",
      "[CV] vect__ngram_range=(1, 1), tfidf__use_idf=False, rfc__n_estimators=60, rfc__min_samples_split=8, rfc__min_samples_leaf=8, rfc__max_features=sqrt, rfc__max_depth=None \n",
      "[CV]  vect__ngram_range=(1, 1), tfidf__use_idf=False, rfc__n_estimators=60, rfc__min_samples_split=8, rfc__min_samples_leaf=8, rfc__max_features=sqrt, rfc__max_depth=None, score=0.889, total=   0.1s\n",
      "[CV] vect__ngram_range=(1, 1), tfidf__use_idf=True, rfc__n_estimators=80, rfc__min_samples_split=2, rfc__min_samples_leaf=1, rfc__max_features=auto, rfc__max_depth=[5, 10, 15, 20, 25, 30, 35, 40, 45, 50, 55, 60, 65, 70, 75, 80, 85, 90, 95] \n"
     ]
    },
    {
     "name": "stderr",
     "output_type": "stream",
     "text": [
      "C:\\Users\\audia\\AppData\\Roaming\\Python\\Python38\\site-packages\\sklearn\\model_selection\\_validation.py:548: FitFailedWarning: Estimator fit failed. The score on this train-test partition for these parameters will be set to nan. Details: \n",
      "Traceback (most recent call last):\n",
      "  File \"C:\\Users\\audia\\AppData\\Roaming\\Python\\Python38\\site-packages\\sklearn\\model_selection\\_validation.py\", line 531, in _fit_and_score\n",
      "    estimator.fit(X_train, y_train, **fit_params)\n",
      "  File \"C:\\Users\\audia\\AppData\\Roaming\\Python\\Python38\\site-packages\\sklearn\\pipeline.py\", line 335, in fit\n",
      "    self._final_estimator.fit(Xt, y, **fit_params_last_step)\n",
      "  File \"C:\\Users\\audia\\AppData\\Roaming\\Python\\Python38\\site-packages\\sklearn\\ensemble\\_forest.py\", line 386, in fit\n",
      "    trees = Parallel(n_jobs=self.n_jobs, verbose=self.verbose,\n",
      "  File \"C:\\Users\\audia\\AppData\\Roaming\\Python\\Python38\\site-packages\\joblib\\parallel.py\", line 1041, in __call__\n",
      "    if self.dispatch_one_batch(iterator):\n",
      "  File \"C:\\Users\\audia\\AppData\\Roaming\\Python\\Python38\\site-packages\\joblib\\parallel.py\", line 859, in dispatch_one_batch\n",
      "    self._dispatch(tasks)\n",
      "  File \"C:\\Users\\audia\\AppData\\Roaming\\Python\\Python38\\site-packages\\joblib\\parallel.py\", line 777, in _dispatch\n",
      "    job = self._backend.apply_async(batch, callback=cb)\n",
      "  File \"C:\\Users\\audia\\AppData\\Roaming\\Python\\Python38\\site-packages\\joblib\\_parallel_backends.py\", line 208, in apply_async\n",
      "    result = ImmediateResult(func)\n",
      "  File \"C:\\Users\\audia\\AppData\\Roaming\\Python\\Python38\\site-packages\\joblib\\_parallel_backends.py\", line 572, in __init__\n",
      "    self.results = batch()\n",
      "  File \"C:\\Users\\audia\\AppData\\Roaming\\Python\\Python38\\site-packages\\joblib\\parallel.py\", line 262, in __call__\n",
      "    return [func(*args, **kwargs)\n",
      "  File \"C:\\Users\\audia\\AppData\\Roaming\\Python\\Python38\\site-packages\\joblib\\parallel.py\", line 262, in <listcomp>\n",
      "    return [func(*args, **kwargs)\n",
      "  File \"C:\\Users\\audia\\AppData\\Roaming\\Python\\Python38\\site-packages\\sklearn\\ensemble\\_forest.py\", line 168, in _parallel_build_trees\n",
      "    tree.fit(X, y, sample_weight=curr_sample_weight, check_input=False)\n",
      "  File \"C:\\Users\\audia\\AppData\\Roaming\\Python\\Python38\\site-packages\\sklearn\\tree\\_classes.py\", line 890, in fit\n",
      "    super().fit(\n",
      "  File \"C:\\Users\\audia\\AppData\\Roaming\\Python\\Python38\\site-packages\\sklearn\\tree\\_classes.py\", line 276, in fit\n",
      "    if max_depth <= 0:\n",
      "TypeError: '<=' not supported between instances of 'list' and 'int'\n",
      "\n",
      "  warnings.warn(\"Estimator fit failed. The score on this train-test\"\n",
      "C:\\Users\\audia\\AppData\\Roaming\\Python\\Python38\\site-packages\\sklearn\\model_selection\\_validation.py:548: FitFailedWarning: Estimator fit failed. The score on this train-test partition for these parameters will be set to nan. Details: \n",
      "Traceback (most recent call last):\n",
      "  File \"C:\\Users\\audia\\AppData\\Roaming\\Python\\Python38\\site-packages\\sklearn\\model_selection\\_validation.py\", line 531, in _fit_and_score\n",
      "    estimator.fit(X_train, y_train, **fit_params)\n",
      "  File \"C:\\Users\\audia\\AppData\\Roaming\\Python\\Python38\\site-packages\\sklearn\\pipeline.py\", line 335, in fit\n",
      "    self._final_estimator.fit(Xt, y, **fit_params_last_step)\n",
      "  File \"C:\\Users\\audia\\AppData\\Roaming\\Python\\Python38\\site-packages\\sklearn\\ensemble\\_forest.py\", line 386, in fit\n",
      "    trees = Parallel(n_jobs=self.n_jobs, verbose=self.verbose,\n",
      "  File \"C:\\Users\\audia\\AppData\\Roaming\\Python\\Python38\\site-packages\\joblib\\parallel.py\", line 1041, in __call__\n",
      "    if self.dispatch_one_batch(iterator):\n",
      "  File \"C:\\Users\\audia\\AppData\\Roaming\\Python\\Python38\\site-packages\\joblib\\parallel.py\", line 859, in dispatch_one_batch\n",
      "    self._dispatch(tasks)\n",
      "  File \"C:\\Users\\audia\\AppData\\Roaming\\Python\\Python38\\site-packages\\joblib\\parallel.py\", line 777, in _dispatch\n",
      "    job = self._backend.apply_async(batch, callback=cb)\n",
      "  File \"C:\\Users\\audia\\AppData\\Roaming\\Python\\Python38\\site-packages\\joblib\\_parallel_backends.py\", line 208, in apply_async\n",
      "    result = ImmediateResult(func)\n",
      "  File \"C:\\Users\\audia\\AppData\\Roaming\\Python\\Python38\\site-packages\\joblib\\_parallel_backends.py\", line 572, in __init__\n",
      "    self.results = batch()\n",
      "  File \"C:\\Users\\audia\\AppData\\Roaming\\Python\\Python38\\site-packages\\joblib\\parallel.py\", line 262, in __call__\n",
      "    return [func(*args, **kwargs)\n",
      "  File \"C:\\Users\\audia\\AppData\\Roaming\\Python\\Python38\\site-packages\\joblib\\parallel.py\", line 262, in <listcomp>\n",
      "    return [func(*args, **kwargs)\n",
      "  File \"C:\\Users\\audia\\AppData\\Roaming\\Python\\Python38\\site-packages\\sklearn\\ensemble\\_forest.py\", line 168, in _parallel_build_trees\n",
      "    tree.fit(X, y, sample_weight=curr_sample_weight, check_input=False)\n",
      "  File \"C:\\Users\\audia\\AppData\\Roaming\\Python\\Python38\\site-packages\\sklearn\\tree\\_classes.py\", line 890, in fit\n",
      "    super().fit(\n",
      "  File \"C:\\Users\\audia\\AppData\\Roaming\\Python\\Python38\\site-packages\\sklearn\\tree\\_classes.py\", line 276, in fit\n",
      "    if max_depth <= 0:\n",
      "TypeError: '<=' not supported between instances of 'list' and 'int'\n",
      "\n",
      "  warnings.warn(\"Estimator fit failed. The score on this train-test\"\n",
      "C:\\Users\\audia\\AppData\\Roaming\\Python\\Python38\\site-packages\\sklearn\\model_selection\\_validation.py:548: FitFailedWarning: Estimator fit failed. The score on this train-test partition for these parameters will be set to nan. Details: \n",
      "Traceback (most recent call last):\n",
      "  File \"C:\\Users\\audia\\AppData\\Roaming\\Python\\Python38\\site-packages\\sklearn\\model_selection\\_validation.py\", line 531, in _fit_and_score\n",
      "    estimator.fit(X_train, y_train, **fit_params)\n",
      "  File \"C:\\Users\\audia\\AppData\\Roaming\\Python\\Python38\\site-packages\\sklearn\\pipeline.py\", line 335, in fit\n",
      "    self._final_estimator.fit(Xt, y, **fit_params_last_step)\n",
      "  File \"C:\\Users\\audia\\AppData\\Roaming\\Python\\Python38\\site-packages\\sklearn\\ensemble\\_forest.py\", line 386, in fit\n",
      "    trees = Parallel(n_jobs=self.n_jobs, verbose=self.verbose,\n",
      "  File \"C:\\Users\\audia\\AppData\\Roaming\\Python\\Python38\\site-packages\\joblib\\parallel.py\", line 1041, in __call__\n",
      "    if self.dispatch_one_batch(iterator):\n",
      "  File \"C:\\Users\\audia\\AppData\\Roaming\\Python\\Python38\\site-packages\\joblib\\parallel.py\", line 859, in dispatch_one_batch\n",
      "    self._dispatch(tasks)\n",
      "  File \"C:\\Users\\audia\\AppData\\Roaming\\Python\\Python38\\site-packages\\joblib\\parallel.py\", line 777, in _dispatch\n",
      "    job = self._backend.apply_async(batch, callback=cb)\n",
      "  File \"C:\\Users\\audia\\AppData\\Roaming\\Python\\Python38\\site-packages\\joblib\\_parallel_backends.py\", line 208, in apply_async\n",
      "    result = ImmediateResult(func)\n",
      "  File \"C:\\Users\\audia\\AppData\\Roaming\\Python\\Python38\\site-packages\\joblib\\_parallel_backends.py\", line 572, in __init__\n",
      "    self.results = batch()\n",
      "  File \"C:\\Users\\audia\\AppData\\Roaming\\Python\\Python38\\site-packages\\joblib\\parallel.py\", line 262, in __call__\n",
      "    return [func(*args, **kwargs)\n",
      "  File \"C:\\Users\\audia\\AppData\\Roaming\\Python\\Python38\\site-packages\\joblib\\parallel.py\", line 262, in <listcomp>\n",
      "    return [func(*args, **kwargs)\n",
      "  File \"C:\\Users\\audia\\AppData\\Roaming\\Python\\Python38\\site-packages\\sklearn\\ensemble\\_forest.py\", line 168, in _parallel_build_trees\n",
      "    tree.fit(X, y, sample_weight=curr_sample_weight, check_input=False)\n",
      "  File \"C:\\Users\\audia\\AppData\\Roaming\\Python\\Python38\\site-packages\\sklearn\\tree\\_classes.py\", line 890, in fit\n",
      "    super().fit(\n",
      "  File \"C:\\Users\\audia\\AppData\\Roaming\\Python\\Python38\\site-packages\\sklearn\\tree\\_classes.py\", line 276, in fit\n",
      "    if max_depth <= 0:\n",
      "TypeError: '<=' not supported between instances of 'list' and 'int'\n",
      "\n",
      "  warnings.warn(\"Estimator fit failed. The score on this train-test\"\n",
      "C:\\Users\\audia\\AppData\\Roaming\\Python\\Python38\\site-packages\\sklearn\\model_selection\\_validation.py:548: FitFailedWarning: Estimator fit failed. The score on this train-test partition for these parameters will be set to nan. Details: \n",
      "Traceback (most recent call last):\n",
      "  File \"C:\\Users\\audia\\AppData\\Roaming\\Python\\Python38\\site-packages\\sklearn\\model_selection\\_validation.py\", line 531, in _fit_and_score\n",
      "    estimator.fit(X_train, y_train, **fit_params)\n",
      "  File \"C:\\Users\\audia\\AppData\\Roaming\\Python\\Python38\\site-packages\\sklearn\\pipeline.py\", line 335, in fit\n",
      "    self._final_estimator.fit(Xt, y, **fit_params_last_step)\n",
      "  File \"C:\\Users\\audia\\AppData\\Roaming\\Python\\Python38\\site-packages\\sklearn\\ensemble\\_forest.py\", line 386, in fit\n",
      "    trees = Parallel(n_jobs=self.n_jobs, verbose=self.verbose,\n",
      "  File \"C:\\Users\\audia\\AppData\\Roaming\\Python\\Python38\\site-packages\\joblib\\parallel.py\", line 1041, in __call__\n",
      "    if self.dispatch_one_batch(iterator):\n",
      "  File \"C:\\Users\\audia\\AppData\\Roaming\\Python\\Python38\\site-packages\\joblib\\parallel.py\", line 859, in dispatch_one_batch\n",
      "    self._dispatch(tasks)\n",
      "  File \"C:\\Users\\audia\\AppData\\Roaming\\Python\\Python38\\site-packages\\joblib\\parallel.py\", line 777, in _dispatch\n",
      "    job = self._backend.apply_async(batch, callback=cb)\n",
      "  File \"C:\\Users\\audia\\AppData\\Roaming\\Python\\Python38\\site-packages\\joblib\\_parallel_backends.py\", line 208, in apply_async\n",
      "    result = ImmediateResult(func)\n",
      "  File \"C:\\Users\\audia\\AppData\\Roaming\\Python\\Python38\\site-packages\\joblib\\_parallel_backends.py\", line 572, in __init__\n",
      "    self.results = batch()\n",
      "  File \"C:\\Users\\audia\\AppData\\Roaming\\Python\\Python38\\site-packages\\joblib\\parallel.py\", line 262, in __call__\n",
      "    return [func(*args, **kwargs)\n",
      "  File \"C:\\Users\\audia\\AppData\\Roaming\\Python\\Python38\\site-packages\\joblib\\parallel.py\", line 262, in <listcomp>\n",
      "    return [func(*args, **kwargs)\n",
      "  File \"C:\\Users\\audia\\AppData\\Roaming\\Python\\Python38\\site-packages\\sklearn\\ensemble\\_forest.py\", line 168, in _parallel_build_trees\n",
      "    tree.fit(X, y, sample_weight=curr_sample_weight, check_input=False)\n",
      "  File \"C:\\Users\\audia\\AppData\\Roaming\\Python\\Python38\\site-packages\\sklearn\\tree\\_classes.py\", line 890, in fit\n",
      "    super().fit(\n",
      "  File \"C:\\Users\\audia\\AppData\\Roaming\\Python\\Python38\\site-packages\\sklearn\\tree\\_classes.py\", line 276, in fit\n",
      "    if max_depth <= 0:\n",
      "TypeError: '<=' not supported between instances of 'list' and 'int'\n",
      "\n",
      "  warnings.warn(\"Estimator fit failed. The score on this train-test\"\n"
     ]
    },
    {
     "name": "stdout",
     "output_type": "stream",
     "text": [
      "[CV]  vect__ngram_range=(1, 1), tfidf__use_idf=True, rfc__n_estimators=80, rfc__min_samples_split=2, rfc__min_samples_leaf=1, rfc__max_features=auto, rfc__max_depth=[5, 10, 15, 20, 25, 30, 35, 40, 45, 50, 55, 60, 65, 70, 75, 80, 85, 90, 95], score=nan, total=   0.1s\n",
      "[CV] vect__ngram_range=(1, 1), tfidf__use_idf=True, rfc__n_estimators=80, rfc__min_samples_split=2, rfc__min_samples_leaf=1, rfc__max_features=auto, rfc__max_depth=[5, 10, 15, 20, 25, 30, 35, 40, 45, 50, 55, 60, 65, 70, 75, 80, 85, 90, 95] \n",
      "[CV]  vect__ngram_range=(1, 1), tfidf__use_idf=True, rfc__n_estimators=80, rfc__min_samples_split=2, rfc__min_samples_leaf=1, rfc__max_features=auto, rfc__max_depth=[5, 10, 15, 20, 25, 30, 35, 40, 45, 50, 55, 60, 65, 70, 75, 80, 85, 90, 95], score=nan, total=   0.1s\n",
      "[CV] vect__ngram_range=(1, 1), tfidf__use_idf=True, rfc__n_estimators=80, rfc__min_samples_split=2, rfc__min_samples_leaf=1, rfc__max_features=auto, rfc__max_depth=[5, 10, 15, 20, 25, 30, 35, 40, 45, 50, 55, 60, 65, 70, 75, 80, 85, 90, 95] \n",
      "[CV]  vect__ngram_range=(1, 1), tfidf__use_idf=True, rfc__n_estimators=80, rfc__min_samples_split=2, rfc__min_samples_leaf=1, rfc__max_features=auto, rfc__max_depth=[5, 10, 15, 20, 25, 30, 35, 40, 45, 50, 55, 60, 65, 70, 75, 80, 85, 90, 95], score=nan, total=   0.1s\n",
      "[CV] vect__ngram_range=(1, 1), tfidf__use_idf=True, rfc__n_estimators=80, rfc__min_samples_split=2, rfc__min_samples_leaf=1, rfc__max_features=auto, rfc__max_depth=[5, 10, 15, 20, 25, 30, 35, 40, 45, 50, 55, 60, 65, 70, 75, 80, 85, 90, 95] \n",
      "[CV]  vect__ngram_range=(1, 1), tfidf__use_idf=True, rfc__n_estimators=80, rfc__min_samples_split=2, rfc__min_samples_leaf=1, rfc__max_features=auto, rfc__max_depth=[5, 10, 15, 20, 25, 30, 35, 40, 45, 50, 55, 60, 65, 70, 75, 80, 85, 90, 95], score=nan, total=   0.1s\n",
      "[CV] vect__ngram_range=(1, 1), tfidf__use_idf=True, rfc__n_estimators=80, rfc__min_samples_split=2, rfc__min_samples_leaf=1, rfc__max_features=auto, rfc__max_depth=[5, 10, 15, 20, 25, 30, 35, 40, 45, 50, 55, 60, 65, 70, 75, 80, 85, 90, 95] \n"
     ]
    },
    {
     "name": "stderr",
     "output_type": "stream",
     "text": [
      "C:\\Users\\audia\\AppData\\Roaming\\Python\\Python38\\site-packages\\sklearn\\model_selection\\_validation.py:548: FitFailedWarning: Estimator fit failed. The score on this train-test partition for these parameters will be set to nan. Details: \n",
      "Traceback (most recent call last):\n",
      "  File \"C:\\Users\\audia\\AppData\\Roaming\\Python\\Python38\\site-packages\\sklearn\\model_selection\\_validation.py\", line 531, in _fit_and_score\n",
      "    estimator.fit(X_train, y_train, **fit_params)\n",
      "  File \"C:\\Users\\audia\\AppData\\Roaming\\Python\\Python38\\site-packages\\sklearn\\pipeline.py\", line 335, in fit\n",
      "    self._final_estimator.fit(Xt, y, **fit_params_last_step)\n",
      "  File \"C:\\Users\\audia\\AppData\\Roaming\\Python\\Python38\\site-packages\\sklearn\\ensemble\\_forest.py\", line 386, in fit\n",
      "    trees = Parallel(n_jobs=self.n_jobs, verbose=self.verbose,\n",
      "  File \"C:\\Users\\audia\\AppData\\Roaming\\Python\\Python38\\site-packages\\joblib\\parallel.py\", line 1041, in __call__\n",
      "    if self.dispatch_one_batch(iterator):\n",
      "  File \"C:\\Users\\audia\\AppData\\Roaming\\Python\\Python38\\site-packages\\joblib\\parallel.py\", line 859, in dispatch_one_batch\n",
      "    self._dispatch(tasks)\n",
      "  File \"C:\\Users\\audia\\AppData\\Roaming\\Python\\Python38\\site-packages\\joblib\\parallel.py\", line 777, in _dispatch\n",
      "    job = self._backend.apply_async(batch, callback=cb)\n",
      "  File \"C:\\Users\\audia\\AppData\\Roaming\\Python\\Python38\\site-packages\\joblib\\_parallel_backends.py\", line 208, in apply_async\n",
      "    result = ImmediateResult(func)\n",
      "  File \"C:\\Users\\audia\\AppData\\Roaming\\Python\\Python38\\site-packages\\joblib\\_parallel_backends.py\", line 572, in __init__\n",
      "    self.results = batch()\n",
      "  File \"C:\\Users\\audia\\AppData\\Roaming\\Python\\Python38\\site-packages\\joblib\\parallel.py\", line 262, in __call__\n",
      "    return [func(*args, **kwargs)\n",
      "  File \"C:\\Users\\audia\\AppData\\Roaming\\Python\\Python38\\site-packages\\joblib\\parallel.py\", line 262, in <listcomp>\n",
      "    return [func(*args, **kwargs)\n",
      "  File \"C:\\Users\\audia\\AppData\\Roaming\\Python\\Python38\\site-packages\\sklearn\\ensemble\\_forest.py\", line 168, in _parallel_build_trees\n",
      "    tree.fit(X, y, sample_weight=curr_sample_weight, check_input=False)\n",
      "  File \"C:\\Users\\audia\\AppData\\Roaming\\Python\\Python38\\site-packages\\sklearn\\tree\\_classes.py\", line 890, in fit\n",
      "    super().fit(\n",
      "  File \"C:\\Users\\audia\\AppData\\Roaming\\Python\\Python38\\site-packages\\sklearn\\tree\\_classes.py\", line 276, in fit\n",
      "    if max_depth <= 0:\n",
      "TypeError: '<=' not supported between instances of 'list' and 'int'\n",
      "\n",
      "  warnings.warn(\"Estimator fit failed. The score on this train-test\"\n"
     ]
    },
    {
     "name": "stdout",
     "output_type": "stream",
     "text": [
      "[CV]  vect__ngram_range=(1, 1), tfidf__use_idf=True, rfc__n_estimators=80, rfc__min_samples_split=2, rfc__min_samples_leaf=1, rfc__max_features=auto, rfc__max_depth=[5, 10, 15, 20, 25, 30, 35, 40, 45, 50, 55, 60, 65, 70, 75, 80, 85, 90, 95], score=nan, total=   0.1s\n",
      "[CV] vect__ngram_range=(1, 1), tfidf__use_idf=False, rfc__n_estimators=100, rfc__min_samples_split=3, rfc__min_samples_leaf=1, rfc__max_features=log2, rfc__max_depth=None \n",
      "[CV]  vect__ngram_range=(1, 1), tfidf__use_idf=False, rfc__n_estimators=100, rfc__min_samples_split=3, rfc__min_samples_leaf=1, rfc__max_features=log2, rfc__max_depth=None, score=0.933, total=   0.3s\n",
      "[CV] vect__ngram_range=(1, 1), tfidf__use_idf=False, rfc__n_estimators=100, rfc__min_samples_split=3, rfc__min_samples_leaf=1, rfc__max_features=log2, rfc__max_depth=None \n",
      "[CV]  vect__ngram_range=(1, 1), tfidf__use_idf=False, rfc__n_estimators=100, rfc__min_samples_split=3, rfc__min_samples_leaf=1, rfc__max_features=log2, rfc__max_depth=None, score=0.942, total=   0.3s\n",
      "[CV] vect__ngram_range=(1, 1), tfidf__use_idf=False, rfc__n_estimators=100, rfc__min_samples_split=3, rfc__min_samples_leaf=1, rfc__max_features=log2, rfc__max_depth=None \n",
      "[CV]  vect__ngram_range=(1, 1), tfidf__use_idf=False, rfc__n_estimators=100, rfc__min_samples_split=3, rfc__min_samples_leaf=1, rfc__max_features=log2, rfc__max_depth=None, score=0.952, total=   0.3s\n",
      "[CV] vect__ngram_range=(1, 1), tfidf__use_idf=False, rfc__n_estimators=100, rfc__min_samples_split=3, rfc__min_samples_leaf=1, rfc__max_features=log2, rfc__max_depth=None \n",
      "[CV]  vect__ngram_range=(1, 1), tfidf__use_idf=False, rfc__n_estimators=100, rfc__min_samples_split=3, rfc__min_samples_leaf=1, rfc__max_features=log2, rfc__max_depth=None, score=0.928, total=   0.3s\n",
      "[CV] vect__ngram_range=(1, 1), tfidf__use_idf=False, rfc__n_estimators=100, rfc__min_samples_split=3, rfc__min_samples_leaf=1, rfc__max_features=log2, rfc__max_depth=None \n",
      "[CV]  vect__ngram_range=(1, 1), tfidf__use_idf=False, rfc__n_estimators=100, rfc__min_samples_split=3, rfc__min_samples_leaf=1, rfc__max_features=log2, rfc__max_depth=None, score=0.947, total=   0.3s\n"
     ]
    },
    {
     "name": "stderr",
     "output_type": "stream",
     "text": [
      "[Parallel(n_jobs=1)]: Done  50 out of  50 | elapsed:   44.4s finished\n"
     ]
    },
    {
     "data": {
      "text/plain": [
       "RandomizedSearchCV(estimator=Pipeline(steps=[('vect', CountVectorizer()),\n",
       "                                             ('tfidf', TfidfTransformer()),\n",
       "                                             ('rfc',\n",
       "                                              RandomForestClassifier())]),\n",
       "                   param_distributions={'rfc__max_depth': ([5, 10, 15, 20, 25,\n",
       "                                                            30, 35, 40, 45, 50,\n",
       "                                                            55, 60, 65, 70, 75,\n",
       "                                                            80, 85, 90, 95],\n",
       "                                                           None),\n",
       "                                        'rfc__max_features': ['auto', 'sqrt',\n",
       "                                                              'log2', None],\n",
       "                                        'rfc__min_samples_leaf': [1, 2, 3, 4, 5,\n",
       "                                                                  6, 7, 8, 9],\n",
       "                                        'rfc__min_samples_split': [1, 2, 3, 4,\n",
       "                                                                   5, 6, 7, 8,\n",
       "                                                                   9],\n",
       "                                        'rfc__n_estimators': [50, 60, 70, 80,\n",
       "                                                              90, 100, 110, 120,\n",
       "                                                              130, 140, 150,\n",
       "                                                              160, 170, 180,\n",
       "                                                              190, 200, 210,\n",
       "                                                              220, 230, 240,\n",
       "                                                              250, 260, 270,\n",
       "                                                              280, 290],\n",
       "                                        'tfidf__use_idf': (True, False),\n",
       "                                        'vect__ngram_range': [(1, 1), (1, 2)]},\n",
       "                   verbose=8)"
      ]
     },
     "execution_count": 104,
     "metadata": {},
     "output_type": "execute_result"
    }
   ],
   "source": [
    "search = RandomizedSearchCV(pipeline_rfc, param_distributions=rfc_param_grid, verbose=8)\n",
    "search.fit(X_train, y_train)"
   ]
  },
  {
   "cell_type": "code",
   "execution_count": 105,
   "metadata": {},
   "outputs": [
    {
     "data": {
      "text/plain": [
       "{'vect__ngram_range': (1, 1),\n",
       " 'tfidf__use_idf': False,\n",
       " 'rfc__n_estimators': 100,\n",
       " 'rfc__min_samples_split': 3,\n",
       " 'rfc__min_samples_leaf': 1,\n",
       " 'rfc__max_features': 'log2',\n",
       " 'rfc__max_depth': None}"
      ]
     },
     "execution_count": 105,
     "metadata": {},
     "output_type": "execute_result"
    }
   ],
   "source": [
    "search.best_params_"
   ]
  },
  {
   "cell_type": "code",
   "execution_count": 106,
   "metadata": {},
   "outputs": [
    {
     "name": "stdout",
     "output_type": "stream",
     "text": [
      "              precision    recall  f1-score   support\n",
      "\n",
      "           0       0.95      0.99      0.97       126\n",
      "           1       0.99      0.96      0.97       134\n",
      "\n",
      "    accuracy                           0.97       260\n",
      "   macro avg       0.97      0.97      0.97       260\n",
      "weighted avg       0.97      0.97      0.97       260\n",
      "\n"
     ]
    }
   ],
   "source": [
    "y_pred = search.predict(X_test)\n",
    "cr = classification_report(y_test, y_pred)\n",
    "print(cr)"
   ]
  },
  {
   "cell_type": "code",
   "execution_count": 107,
   "metadata": {},
   "outputs": [
    {
     "name": "stdout",
     "output_type": "stream",
     "text": [
      "Train Accuracy: 0.9990384615384615\n",
      "Test Accuracy: 0.9730769230769231\n"
     ]
    }
   ],
   "source": [
    "print(\"Train Accuracy:\",search.score(X_train, y_train))\n",
    "print(\"Test Accuracy:\",search.score(X_test, y_test))"
   ]
  },
  {
   "cell_type": "markdown",
   "metadata": {},
   "source": [
    "#### After hyperparameter tuning, we have increased our test accuracy result from 96.5% to 97.3%"
   ]
  },
  {
   "cell_type": "code",
   "execution_count": 108,
   "metadata": {},
   "outputs": [
    {
     "data": {
      "text/plain": [
       "array([[125,   1],\n",
       "       [  6, 128]], dtype=int64)"
      ]
     },
     "execution_count": 108,
     "metadata": {},
     "output_type": "execute_result"
    }
   ],
   "source": [
    "confusion_matrix(y_test,y_pred)"
   ]
  },
  {
   "cell_type": "code",
   "execution_count": 109,
   "metadata": {},
   "outputs": [
    {
     "data": {
      "text/plain": [
       "Text(0.5, 1.0, 'ROC curve for our Logistic Regression Model')"
      ]
     },
     "execution_count": 109,
     "metadata": {},
     "output_type": "execute_result"
    },
    {
     "data": {
      "image/png": "[encoded data removed]",
      "text/plain": [
       "<Figure size 432x288 with 1 Axes>"
      ]
     },
     "metadata": {
      "needs_background": "light"
     },
     "output_type": "display_data"
    }
   ],
   "source": [
    "fpr, tpr, _ = metrics.roc_curve(y_test.values, y_pred)\n",
    "\n",
    "plt.plot(fpr,tpr);\n",
    "plt.xlabel('False Positive Rate')\n",
    "plt.ylabel('True Positive Rate')\n",
    "plt.title(\"ROC curve for our Logistic Regression Model\")"
   ]
  },
  {
   "cell_type": "markdown",
   "metadata": {},
   "source": [
    "### The result are great for predicting spam comments!"
   ]
  },
  {
   "cell_type": "markdown",
   "metadata": {},
   "source": [
    "#### Notes: We used ROC-AUC curve because the data is relatively balanced and this is a one-class problem"
   ]
  },
  {
   "cell_type": "markdown",
   "metadata": {},
   "source": [
    " "
   ]
  },
  {
   "cell_type": "markdown",
   "metadata": {},
   "source": [
    "### NLTK (Natural Language Toolkit)\n",
    "\n",
    "stemming is the process of reducing inflected (or sometimes derived) words to their word stem, base or root form. E.g. A stemming algorithm reduces the words “fishing”, “fished”, and “fisher” to the root word, “fish”.\n",
    "We need NLTK to do this. NLTK comes with various stemmers which can help reducing the words to their root form."
   ]
  },
  {
   "cell_type": "code",
   "execution_count": 156,
   "metadata": {},
   "outputs": [
    {
     "data": {
      "text/plain": [
       "0.9384615384615385"
      ]
     },
     "execution_count": 156,
     "metadata": {},
     "output_type": "execute_result"
    }
   ],
   "source": [
    "import nltk\n",
    "from nltk.stem.snowball import SnowballStemmer\n",
    "\n",
    "stemmer = SnowballStemmer(\"english\", ignore_stopwords=True)\n",
    "\n",
    "class StemmedCountVectorizer(CountVectorizer):\n",
    "    def build_analyzer(self):\n",
    "        analyzer = super(StemmedCountVectorizer, self).build_analyzer()\n",
    "        return lambda doc: ([stemmer.stem(w) for w in analyzer(doc)])\n",
    "stemmed_count_vect = StemmedCountVectorizer()\n",
    "text_mnb_stemmed = Pipeline([('vect', stemmed_count_vect),\n",
    "                          ('tfidf', TfidfTransformer()),\n",
    "                          ('mnb', MultinomialNB(fit_prior=False)),\n",
    "                             ])\n",
    "text_mnb_stemmed = text_mnb_stemmed.fit(X_train, y_train)\n",
    "predicted_mnb_stemmed = text_mnb_stemmed.predict(X_test)\n",
    "np.mean(predicted_mnb_stemmed == y_test)"
   ]
  },
  {
   "cell_type": "markdown",
   "metadata": {},
   "source": [
    "#### NLTK and stemming does not increase our previous accuracy"
   ]
  },
  {
   "cell_type": "markdown",
   "metadata": {},
   "source": [
    " "
   ]
  },
  {
   "cell_type": "markdown",
   "metadata": {},
   "source": [
    " "
   ]
  },
  {
   "cell_type": "markdown",
   "metadata": {},
   "source": [
    "###### By Audi Armadhani for Bagidata"
   ]
  }
 ],
 "metadata": {
  "kernelspec": {
   "display_name": "Python 3",
   "language": "python",
   "name": "python3"
  },
  "language_info": {
   "codemirror_mode": {
    "name": "ipython",
    "version": 3
   },
   "file_extension": ".py",
   "mimetype": "text/x-python",
   "name": "python",
   "nbconvert_exporter": "python",
   "pygments_lexer": "ipython3",
   "version": "3.8.3"
  }
 },
 "nbformat": 4,
 "nbformat_minor": 4
}
